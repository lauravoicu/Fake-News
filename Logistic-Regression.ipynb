{
 "cells": [
  {
   "cell_type": "markdown",
   "metadata": {},
   "source": [
    "# Logistic Regression "
   ]
  },
  {
   "cell_type": "code",
   "execution_count": 1,
   "metadata": {},
   "outputs": [],
   "source": [
    "import numpy as np\n",
    "import pandas as pd\n",
    "import matplotlib as mpl\n",
    "import matplotlib.pyplot as plt  \n",
    "import seaborn as sns\n",
    "import nltk  # for text manipulation \n",
    "\n",
    "from sklearn.feature_extraction.text import TfidfTransformer, TfidfVectorizer\n",
    "\n",
    "from sklearn.linear_model import LogisticRegression \n",
    "from sklearn.model_selection import GridSearchCV, train_test_split\n",
    "# from sklearn.pipeline import Pipeline\n",
    "from sklearn import metrics\n",
    "from sklearn.metrics import classification_report\n",
    "from sklearn.metrics import f1_score, roc_auc_score, roc_curve, average_precision_score, precision_recall_curve"
   ]
  },
  {
   "cell_type": "code",
   "execution_count": 2,
   "metadata": {},
   "outputs": [],
   "source": [
    "#keep the same random state for reproducibility\n",
    "RANDOM_STATE = 12\n",
    "TRAIN_TEST_SPLIT_SIZE = .1"
   ]
  },
  {
   "cell_type": "markdown",
   "metadata": {},
   "source": [
    "**Logistic regression**\n",
    "\n",
    "\n",
    "Logistic Regression is a classification algorithm. It is used to predict a binary outcome (1 / 0, Yes / No, True / False) given a set of independent variables. We can also think of logistic regression as a special case of linear regression when the outcome variable is categorical, where we are using log of odds as the dependent variable. In simple words, it predicts the probability of occurrence of an event by fitting data to a logit function.\n",
    "\n",
    "For this part I will perform the following steps:\n",
    "- Evaluate the logistic regression\n",
    "- Tune the regularization strength parameter with cross-validated grid-search for each type of embeddings\n",
    "- Check the predictions against the actual values"
   ]
  },
  {
   "cell_type": "markdown",
   "metadata": {},
   "source": [
    "***\n",
    "\n",
    "**Utility Functions**\n",
    "\n",
    "***"
   ]
  },
  {
   "cell_type": "markdown",
   "metadata": {},
   "source": [
    "In order to evaluate the performance of the model, I will take a look at the following metrics:\n",
    "- Precision: the fraction of relevant instances among the retrieved instances.\n",
    "- Recall: the fraction of the total amount of relevant instances that were actually retrieved.\n",
    "- F1 Score: harmonic mean between precision and recall. Since it is difficult to compare two models with low precision and high recall or vice versa, we make them comparable by using the F-Score. F-score helps to measure Recall and Precision at the same time. It uses harmonic mean in place of arithmetic mean by punishing the extreme values more. The F1 score is highly influenced by which class is labeled as positive. \n",
    "- Confusion Matrix: a summary table that breaks down the number of correct and incorrect predictions by each class. For imbalanced classification problems, the majority class is typically referred to as the negative outcome (e.g. such as “no change” or “negative test result“), and the minority class is typically referred to as the positive outcome (e.g. “change” or “positive test result”). The confusion matrix provides more insight into not only the performance of a predictive model, but also which classes are being predicted correctly, which incorrectly, and what type of errors are being made. The simplest confusion matrix is for a two-class classification problem, with negative (class 0) and positive (class 1) classes. I will reverse the positive and the negative labels in the calculation of the confusion matrix to reflect my actual labeling of the classes (majority class is label 0 and minority class is label 1).\n",
    "- ROC: a plot that illustrates the true positive rate against the false positive rate at various threshold settings. The area under the curve (AUC) indicates the probability that the classifier will rank a randomly chosen positive observation higher than a randomly chosen negative one."
   ]
  },
  {
   "cell_type": "code",
   "execution_count": 3,
   "metadata": {},
   "outputs": [],
   "source": [
    "mpl.rcParams['figure.figsize'] = (12, 10)\n",
    "colors = plt.rcParams['axes.prop_cycle'].by_key()['color']"
   ]
  },
  {
   "cell_type": "code",
   "execution_count": 4,
   "metadata": {},
   "outputs": [],
   "source": [
    "def plot_cfm(labels, predictions, p = 0.5):\n",
    "    cfm = metrics.confusion_matrix(labels, predictions > p)\n",
    "    plt.figure(figsize = (5,5))\n",
    "    sns.heatmap(cfm, annot = True, fmt = \"d\")\n",
    "    plt.title('Confusion matrix @{:.2f}'.format(p))\n",
    "    plt.ylabel('Actual values')\n",
    "    plt.xlabel('Predicted values')\n",
    "\n",
    "    print('True Negatives: ', cfm[0][0])\n",
    "    print('False Positives: ', cfm[0][1])\n",
    "    print('False Negatives: ', cfm[1][0])\n",
    "    print('True Positives: ', cfm[1][1])"
   ]
  },
  {
   "cell_type": "code",
   "execution_count": 5,
   "metadata": {},
   "outputs": [],
   "source": [
    "def plot_roc(name, labels, predictions, **kwargs):\n",
    "    fp, tp, _ = roc_curve(labels, predictions)\n",
    "    roc_auc = metrics.auc(fp, tp)    \n",
    "    plt.title('Receiver Operating Characteristic')\n",
    "    plt.plot(fp, tp, label = name + ' AUC = %0.2f' % roc_auc, linewidth=2, **kwargs)\n",
    "    plt.legend(loc = 'lower right')\n",
    "    plt.plot([0, 1], [0, 1], linewidth=2, color=colors[6], linestyle=':')\n",
    "    plt.xlabel('False positives [%]')\n",
    "    plt.ylabel('True positives [%]')\n",
    "    plt.grid(True)\n",
    "    ax = plt.gca()\n",
    "    ax.set_aspect('equal')"
   ]
  },
  {
   "cell_type": "markdown",
   "metadata": {},
   "source": [
    "***\n",
    "\n",
    "**TF-IDF**\n",
    "\n",
    "***"
   ]
  },
  {
   "cell_type": "markdown",
   "metadata": {},
   "source": [
    "**Prepare the datasets**\n",
    "\n",
    "Here we will use the TF-IDF extracted features and combine again the train and validation data set, since we will use GridSeachCV with built-in cross-validation to look for the best parameters. "
   ]
  },
  {
   "cell_type": "code",
   "execution_count": 6,
   "metadata": {},
   "outputs": [],
   "source": [
    "train_tfidf_features = np.load('train_dataset_tfidf_features.npy', allow_pickle=True)\n",
    "train_tfidf_labels = np.load('train_dataset_tfidf_labels.npy', allow_pickle=True)"
   ]
  },
  {
   "cell_type": "code",
   "execution_count": 7,
   "metadata": {},
   "outputs": [],
   "source": [
    "test_tfidf_features = np.load('test_dataset_tfidf_features.npy', allow_pickle=True)\n",
    "test_tfidf_labels = np.load('test_dataset_tfidf_labels.npy', allow_pickle=True)"
   ]
  },
  {
   "cell_type": "code",
   "execution_count": 8,
   "metadata": {},
   "outputs": [],
   "source": [
    "val_tfidf_features = np.load('val_dataset_tfidf_features.npy', allow_pickle=True)\n",
    "val_tfidf_labels = np.load('val_dataset_tfidf_labels.npy', allow_pickle=True)"
   ]
  },
  {
   "cell_type": "code",
   "execution_count": 9,
   "metadata": {},
   "outputs": [
    {
     "name": "stdout",
     "output_type": "stream",
     "text": [
      "x: (54706, 25000) float64\n",
      "y: (54706,) int64\n"
     ]
    }
   ],
   "source": [
    "# Create X/y arrays\n",
    "x_train_tfidf_u = train_tfidf_features.item()\n",
    "y_train_tfidf_u = train_tfidf_labels\n",
    "\n",
    "print('x:', x_train_tfidf_u.shape, x_train_tfidf_u.dtype)\n",
    "print('y:', y_train_tfidf_u.shape, y_train_tfidf_u.dtype)"
   ]
  },
  {
   "cell_type": "code",
   "execution_count": 10,
   "metadata": {},
   "outputs": [
    {
     "name": "stdout",
     "output_type": "stream",
     "text": [
      "x: (7599, 25000) float64\n",
      "y: (7599,) int64\n"
     ]
    }
   ],
   "source": [
    "# Create X/y arrays\n",
    "x_test_tfidf = test_tfidf_features.item()\n",
    "y_test_tfidf = test_tfidf_labels\n",
    "\n",
    "print('x:', x_test_tfidf.shape, x_test_tfidf.dtype)\n",
    "print('y:', y_test_tfidf.shape, y_test_tfidf.dtype)"
   ]
  },
  {
   "cell_type": "code",
   "execution_count": 11,
   "metadata": {},
   "outputs": [
    {
     "name": "stdout",
     "output_type": "stream",
     "text": [
      "x: (13677, 25000) float64\n",
      "y: (13677,) int64\n"
     ]
    }
   ],
   "source": [
    "# Create X/y arrays\n",
    "x_val_tfidf = val_tfidf_features.item()\n",
    "y_val_tfidf = val_tfidf_labels\n",
    "\n",
    "print('x:', x_val_tfidf.shape, x_val_tfidf.dtype)\n",
    "print('y:', y_val_tfidf.shape, y_val_tfidf.dtype)"
   ]
  },
  {
   "cell_type": "code",
   "execution_count": 12,
   "metadata": {},
   "outputs": [],
   "source": [
    "import scipy\n",
    "x_train_tfidf = scipy.sparse.vstack([x_train_tfidf_u, x_val_tfidf])\n",
    "y_train_tfidf = np.hstack((y_train_tfidf_u, y_val_tfidf))"
   ]
  },
  {
   "cell_type": "code",
   "execution_count": 13,
   "metadata": {},
   "outputs": [
    {
     "name": "stdout",
     "output_type": "stream",
     "text": [
      "x: (68383, 25000) float64\n",
      "y: (68383,) int64\n"
     ]
    }
   ],
   "source": [
    "print('x:', x_train_tfidf.shape, x_train_tfidf.dtype)\n",
    "print('y:', y_train_tfidf.shape, y_train_tfidf.dtype)"
   ]
  },
  {
   "cell_type": "markdown",
   "metadata": {},
   "source": [
    "Normally, at this stage I would normalize the input features using the sklearn StandardScaler. This will set the mean to 0 and standard deviation to 1. However, \"smart\" vectorizers, such as tfidf are actually already doing that. The idf transformation is supposed to create a kind of reasonable data scaling. There is no guarantee which one will be better, but in general, tfidf should be enough. "
   ]
  },
  {
   "cell_type": "markdown",
   "metadata": {},
   "source": [
    "**Hyperparameter Tuning**\n",
    "\n",
    "The logistic regression does not really have any critical hyperparameters to tune.\n",
    "The C parameter controls the penality strength. Typically is a positive floating-point number (1.0 by default) that defines the relative strength of regularization. Smaller values indicate stronger regularization, bigger values indicate a weaker regularization. I will try with a very strong and a very weak regularization strength, and pass ten C values on a log scale between 10^(-4) and 10^4. I will also set the cv strategy to 5-fold cross-validation, which is stratified by default for classification tasks. cv=5 is also the standard value, which has been shown to yield test error rate estimates that suffer neither from excessively high bias nor from very high variance.\n",
    "I also use roc_auc and f1 as scoring, but refit on f1."
   ]
  },
  {
   "cell_type": "markdown",
   "metadata": {},
   "source": [
    "**Solver Options**\n",
    "\n",
    "Scikit-learn ships with five different solvers. Each solver tries to find the parameter weights that minimize a cost function. Here is a brief overview of the five options:\n",
    "- newton-cg — A newton method. Newton methods use an exact Hessian matrix. It's slow for large datasets, because it computes the second derivatives.\n",
    "- lbfgs — Stands for Limited-memory Broyden–Fletcher–Goldfarb–Shanno. It approximates the second derivative matrix updates with gradient evaluations. It stores only the last few updates, so it saves memory. It isn't super fast with large data sets. It will be the default solver as of Scikit-learn version 0.22.0.\n",
    "- liblinear — Library for Large Linear Classification. Uses a coordinate descent algorithm. Coordinate descent is based on minimizing a multivariate function by solving univariate optimization problems in a loop. In other words, it moves toward the minimum in one direction at a time. It is the default solver for Scikit-learn versions earlier than 0.22.0. It performs pretty well with high dimensionality, but it does have a number of drawbacks though. It can get stuck, and it is unable to run in parallel.\n",
    "- sag — Stochastic Average Gradient descent. A variation of gradient descent and incremental aggregated gradient approaches that uses a random sample of previous gradient values. Fast for big datasets.\n",
    "- saga — Extension of sag that also allows for L1 regularization. Should generally train faster than sag."
   ]
  },
  {
   "cell_type": "code",
   "execution_count": 14,
   "metadata": {},
   "outputs": [],
   "source": [
    "SCORING = {'Accuracy': 'accuracy', 'F1': 'f1'}\n",
    "C_SPACE = np.logspace(-2, 4, num = 10)\n",
    "\n",
    "PARAMETERS = {\n",
    "            'C': C_SPACE,\n",
    "            'solver': ['lbfgs', 'liblinear', 'saga'],\n",
    "            }\n",
    "MAX_ITER = 1000 "
   ]
  },
  {
   "cell_type": "code",
   "execution_count": 15,
   "metadata": {},
   "outputs": [],
   "source": [
    "lr = LogisticRegression(max_iter = MAX_ITER)\n",
    "gs = GridSearchCV(lr, PARAMETERS, cv = 5, scoring = SCORING, refit = 'F1', return_train_score = True, verbose = 3, n_jobs = -1)"
   ]
  },
  {
   "cell_type": "code",
   "execution_count": 16,
   "metadata": {},
   "outputs": [
    {
     "name": "stdout",
     "output_type": "stream",
     "text": [
      "Fitting 5 folds for each of 30 candidates, totalling 150 fits\n"
     ]
    },
    {
     "data": {
      "text/plain": [
       "GridSearchCV(cv=5, estimator=LogisticRegression(max_iter=1000), n_jobs=-1,\n",
       "             param_grid={'C': array([1.00000000e-02, 4.64158883e-02, 2.15443469e-01, 1.00000000e+00,\n",
       "       4.64158883e+00, 2.15443469e+01, 1.00000000e+02, 4.64158883e+02,\n",
       "       2.15443469e+03, 1.00000000e+04]),\n",
       "                         'solver': ['lbfgs', 'liblinear', 'saga']},\n",
       "             refit='F1', return_train_score=True,\n",
       "             scoring={'Accuracy': 'accuracy', 'F1': 'f1'}, verbose=3)"
      ]
     },
     "execution_count": 16,
     "metadata": {},
     "output_type": "execute_result"
    }
   ],
   "source": [
    "gs.fit(x_train_tfidf, y_train_tfidf)"
   ]
  },
  {
   "cell_type": "code",
   "execution_count": 17,
   "metadata": {},
   "outputs": [
    {
     "name": "stdout",
     "output_type": "stream",
     "text": [
      "{'C': 21.54434690031882, 'solver': 'saga'}\n",
      "0.9605398889244607\n",
      "LogisticRegression(C=21.54434690031882, max_iter=1000, solver='saga')\n"
     ]
    }
   ],
   "source": [
    "print(gs.best_params_) \n",
    "print(gs.best_score_) \n",
    "print(gs.best_estimator_) "
   ]
  },
  {
   "cell_type": "code",
   "execution_count": 18,
   "metadata": {},
   "outputs": [],
   "source": [
    "logreg = gs.best_estimator_"
   ]
  },
  {
   "cell_type": "code",
   "execution_count": 19,
   "metadata": {},
   "outputs": [
    {
     "data": {
      "text/plain": [
       "LogisticRegression(C=21.54434690031882, max_iter=1000, solver='saga')"
      ]
     },
     "execution_count": 19,
     "metadata": {},
     "output_type": "execute_result"
    }
   ],
   "source": [
    "# Fit it to train data\n",
    "logreg.fit(x_train_tfidf, y_train_tfidf)"
   ]
  },
  {
   "cell_type": "code",
   "execution_count": 20,
   "metadata": {},
   "outputs": [],
   "source": [
    "y_pred_test_tfidf = logreg.predict(x_test_tfidf)"
   ]
  },
  {
   "cell_type": "code",
   "execution_count": 21,
   "metadata": {},
   "outputs": [],
   "source": [
    "y_probas_train_tfidf = logreg.decision_function(x_train_tfidf)\n",
    "y_probas_test_tfidf = logreg.decision_function(x_test_tfidf)"
   ]
  },
  {
   "cell_type": "code",
   "execution_count": 22,
   "metadata": {},
   "outputs": [
    {
     "name": "stdout",
     "output_type": "stream",
     "text": [
      "True Negatives:  3551\n",
      "False Positives:  159\n",
      "False Negatives:  121\n",
      "True Positives:  3768\n"
     ]
    },
    {
     "data": {
      "image/png": "[encoded data removed]",
      "text/plain": [
       "<Figure size 360x360 with 2 Axes>"
      ]
     },
     "metadata": {
      "needs_background": "light"
     },
     "output_type": "display_data"
    }
   ],
   "source": [
    "plot_cfm(y_test_tfidf, y_pred_test_tfidf)"
   ]
  },
  {
   "cell_type": "code",
   "execution_count": 23,
   "metadata": {},
   "outputs": [
    {
     "name": "stdout",
     "output_type": "stream",
     "text": [
      "              precision    recall  f1-score   support\n",
      "\n",
      "           0       0.97      0.96      0.96      3710\n",
      "           1       0.96      0.97      0.96      3889\n",
      "\n",
      "    accuracy                           0.96      7599\n",
      "   macro avg       0.96      0.96      0.96      7599\n",
      "weighted avg       0.96      0.96      0.96      7599\n",
      "\n"
     ]
    }
   ],
   "source": [
    "print(classification_report(y_test_tfidf, y_pred_test_tfidf))"
   ]
  },
  {
   "cell_type": "code",
   "execution_count": 24,
   "metadata": {},
   "outputs": [
    {
     "name": "stdout",
     "output_type": "stream",
     "text": [
      "F1: 0.96\n"
     ]
    }
   ],
   "source": [
    "f1_tfidf = f1_score(y_test_tfidf, y_pred_test_tfidf, average = 'weighted')\n",
    "print('F1: %.2f' % f1_tfidf)"
   ]
  },
  {
   "cell_type": "code",
   "execution_count": 25,
   "metadata": {},
   "outputs": [
    {
     "name": "stdout",
     "output_type": "stream",
     "text": [
      "AUC: 0.99\n"
     ]
    }
   ],
   "source": [
    "auc_tfidf = roc_auc_score(y_test_tfidf, y_probas_test_tfidf)\n",
    "print('AUC: %.2f' % auc_tfidf)"
   ]
  },
  {
   "cell_type": "markdown",
   "metadata": {},
   "source": [
    "AUC - ROC curve is a performance measurement for classification problem at various thresholds settings. ROC is a probability curve and AUC represents degree or measure of separability. It tells how much model is capable of distinguishing between classes. Higher the AUC, better the model is at predicting 0's as 0's and 1's as 1's. "
   ]
  },
  {
   "cell_type": "code",
   "execution_count": 26,
   "metadata": {},
   "outputs": [
    {
     "data": {
      "image/png": "[encoded data removed]",
      "text/plain": [
       "<Figure size 864x720 with 1 Axes>"
      ]
     },
     "metadata": {
      "needs_background": "light"
     },
     "output_type": "display_data"
    }
   ],
   "source": [
    "plot_roc(\"Train\", y_train_tfidf, y_probas_train_tfidf, color = colors[0])\n",
    "plot_roc(\"Test\", y_test_tfidf, y_probas_test_tfidf, color = colors[0], linestyle = '--')"
   ]
  },
  {
   "cell_type": "markdown",
   "metadata": {},
   "source": [
    "The AUC score for the test data set as well as the AUC - ROC curve are very consistent with respect to the training data set, and the model performs very well. "
   ]
  },
  {
   "cell_type": "code",
   "execution_count": 27,
   "metadata": {},
   "outputs": [
    {
     "data": {
      "text/plain": [
       "['./logreg.joblib']"
      ]
     },
     "execution_count": 27,
     "metadata": {},
     "output_type": "execute_result"
    }
   ],
   "source": [
    "import joblib\n",
    "# save\n",
    "joblib.dump(logreg, \"./logreg.joblib\")"
   ]
  },
  {
   "cell_type": "code",
   "execution_count": 28,
   "metadata": {},
   "outputs": [],
   "source": [
    "# Saving model to current directory\n",
    "# Pickle serializes objects so they can be saved to a file, and loaded in a program again later on.\n",
    "import pickle\n",
    "pickle.dump(logreg, open('logreg.pkl','wb'))\n",
    "\n",
    "#Loading model to compare the results\n",
    "#model = pickle.load(open('model.pkl','rb'))"
   ]
  },
  {
   "cell_type": "code",
   "execution_count": null,
   "metadata": {},
   "outputs": [],
   "source": []
  }
 ],
 "metadata": {
  "kernelspec": {
   "display_name": "Python 3",
   "language": "python",
   "name": "python3"
  },
  "language_info": {
   "codemirror_mode": {
    "name": "ipython",
    "version": 3
   },
   "file_extension": ".py",
   "mimetype": "text/x-python",
   "name": "python",
   "nbconvert_exporter": "python",
   "pygments_lexer": "ipython3",
   "version": "3.8.3"
  }
 },
 "nbformat": 4,
 "nbformat_minor": 2
}
