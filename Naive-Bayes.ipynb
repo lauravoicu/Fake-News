{
 "cells": [
  {
   "cell_type": "markdown",
   "metadata": {},
   "source": [
    "# Naïve Bayes"
   ]
  },
  {
   "cell_type": "code",
   "execution_count": 1,
   "metadata": {},
   "outputs": [],
   "source": [
    "import numpy as np\n",
    "import pandas as pd\n",
    "import matplotlib as mpl\n",
    "import matplotlib.pyplot as plt  \n",
    "import seaborn as sns\n",
    "\n",
    "from sklearn.feature_extraction.text import TfidfTransformer, TfidfVectorizer\n",
    "\n",
    "from sklearn.model_selection import GridSearchCV, train_test_split\n",
    "# from sklearn.pipeline import Pipeline\n",
    "from sklearn import metrics\n",
    "from sklearn.metrics import classification_report\n",
    "from sklearn.metrics import f1_score, roc_auc_score, roc_curve\n",
    "from sklearn.naive_bayes import MultinomialNB, BernoulliNB, GaussianNB\n",
    "import imblearn\n",
    "# print(imblearn.__version__)\n",
    "from imblearn.over_sampling import SMOTE\n",
    "from imblearn.pipeline import Pipeline"
   ]
  },
  {
   "cell_type": "code",
   "execution_count": 2,
   "metadata": {},
   "outputs": [],
   "source": [
    "RANDOM_STATE = 12\n",
    "TRAIN_TEST_SPLIT_SIZE = .1"
   ]
  },
  {
   "cell_type": "markdown",
   "metadata": {},
   "source": [
    "**Naïve Bayes**\n",
    "\n",
    "Scikit-learn provide three naive Bayes implementations: Bernoulli, multinomial and Gaussian. The only difference is about the probability distribution adopted. The first one is a binary algorithm particularly useful when a feature can be present or not. Multinomial naive Bayes assumes to have feature vector where each element represents the number of times it appears (or, very often, its frequency). This technique is very efficient in natural language processing or whenever the samples are composed starting from a common dictionary. The Gaussian Naïve Bayes, instead, is based on a continuous distribution and it’s suitable for more generic classification tasks.\n",
    "\n",
    "MultinomialNB implements the naive Bayes algorithm for multinomially distributed data, and is one of the two classic naive Bayes variants used in text classification (where the data are typically represented as word vector counts, although tf-idf vectors are also known to work well in practice).\n",
    "The smoothing priors alpha accounts for features not present in the learning samples and prevents zero probabilities in further computations. Setting alpha = 1 is called Laplace smoothing, while alpha < 1 is called Lidstone smoothing.\n",
    "\n",
    "BernoulliNB implements the naive Bayes training and classification algorithms for data that is distributed according to multivariate Bernoulli distributions; i.e., there may be multiple features but each one is assumed to be a binary-valued (Bernoulli, boolean) variable. Therefore, this class requires samples to be represented as binary-valued feature vectors; if handed any other kind of data, a BernoulliNB instance may binarise its input.\n",
    "\n",
    "The decision rule for Bernoulli naive Bayes differs from multinomial NB’s rule in that it explicitly penalizes the non-occurrence of a feature i that is an indicator for class y, where the multinomial variant would simply ignore a non-occurring feature.\n",
    "\n",
    "In the case of text classification, word occurrence vectors (rather than word count vectors) may be used to train and use this classifier. BernoulliNB might perform better on some datasets, especially those with shorter documents.\n",
    "\n",
    "\n",
    "The reason I chose Naïve Bayes is because they are are multi-purpose classifiers and it’s easy to find their application in many different contexts. However, the performance is particularly good in all those situations when the probability of a class is determined by the probabilities of some causal factors. A good example is given by natural language processing, where a text can be considered as of a particular type and the relative frequencies of all terms provide enough information to infer a belonging class. Even though apparently the assumptions are “naïve” and simplified, Naïve Bayes algorithm has proven to work notably well with real life problems. A limited amount of training data is usually enough to estimate the important parameters (“1.9. Naive Bayes — scikit-learn 0.19.1 documentation,” 2018). It is a popular text classification algorithm that works well in a short time and with limited resources. "
   ]
  },
  {
   "cell_type": "markdown",
   "metadata": {},
   "source": [
    "***\n",
    "\n",
    "**Utility Functions**\n",
    "\n",
    "***"
   ]
  },
  {
   "cell_type": "markdown",
   "metadata": {},
   "source": [
    "In order to evaluate the performance of the model, I will take a look at the following metrics:\n",
    "- Precision: the fraction of relevant instances among the retrieved instances.\n",
    "- Recall: the fraction of the total amount of relevant instances that were actually retrieved.\n",
    "- F1 Score: harmonic mean between precision and recall. Since it is difficult to compare two models with low precision and high recall or vice versa, we make them comparable by using the F-Score. F-score helps to measure Recall and Precision at the same time. It uses harmonic mean in place of arithmetic mean by punishing the extreme values more. The F1 score is highly influenced by which class is labeled as positive. \n",
    "- Confusion Matrix: a summary table that breaks down the number of correct and incorrect predictions by each class. For imbalanced classification problems, the majority class is typically referred to as the negative outcome (e.g. such as “no change” or “negative test result“), and the minority class is typically referred to as the positive outcome (e.g. “change” or “positive test result”). The confusion matrix provides more insight into not only the performance of a predictive model, but also which classes are being predicted correctly, which incorrectly, and what type of errors are being made. The simplest confusion matrix is for a two-class classification problem, with negative (class 0) and positive (class 1) classes. I will reverse the positive and the negative labels in the calculation of the confusion matrix to reflect my actual labeling of the classes (majority class is label 0 and minority class is label 1).\n",
    "- ROC: a plot that illustrates the true positive rate against the false positive rate at various threshold settings. The area under the curve (AUC) indicates the probability that the classifier will rank a randomly chosen positive observation higher than a randomly chosen negative one."
   ]
  },
  {
   "cell_type": "code",
   "execution_count": 3,
   "metadata": {},
   "outputs": [],
   "source": [
    "mpl.rcParams['figure.figsize'] = (12, 10)\n",
    "colors = plt.rcParams['axes.prop_cycle'].by_key()['color']"
   ]
  },
  {
   "cell_type": "code",
   "execution_count": 4,
   "metadata": {},
   "outputs": [],
   "source": [
    "def plot_cfm(labels, predictions, p = 0.5):\n",
    "    cfm = metrics.confusion_matrix(labels, predictions > p)\n",
    "    plt.figure(figsize = (5,5))\n",
    "    sns.heatmap(cfm, annot = True, fmt = \"d\")\n",
    "    plt.title('Confusion matrix @{:.2f}'.format(p))\n",
    "    plt.ylabel('Actual values')\n",
    "    plt.xlabel('Predicted values')\n",
    "\n",
    "    print('True Negatives: ', cfm[0][0])\n",
    "    print('False Positives: ', cfm[0][1])\n",
    "    print('False Negatives: ', cfm[1][0])\n",
    "    print('True Positives: ', cfm[1][1])"
   ]
  },
  {
   "cell_type": "code",
   "execution_count": 5,
   "metadata": {},
   "outputs": [],
   "source": [
    "def plot_roc(name, labels, predictions, **kwargs):\n",
    "    fp, tp, _ = roc_curve(labels, predictions)\n",
    "    roc_auc = metrics.auc(fp, tp)    \n",
    "    plt.title('Receiver Operating Characteristic')\n",
    "    plt.plot(fp, tp, label = name + ' AUC = %0.2f' % roc_auc, linewidth=2, **kwargs)\n",
    "    plt.legend(loc = 'lower right')\n",
    "    plt.plot([0, 1], [0, 1], linewidth=2, color=colors[6], linestyle=':')\n",
    "    plt.xlabel('False positives [%]')\n",
    "    plt.ylabel('True positives [%]')\n",
    "    plt.grid(True)\n",
    "    ax = plt.gca()\n",
    "    ax.set_aspect('equal')"
   ]
  },
  {
   "cell_type": "markdown",
   "metadata": {},
   "source": [
    "***\n",
    "\n",
    "**TF-IDF**\n",
    "\n",
    "***"
   ]
  },
  {
   "cell_type": "markdown",
   "metadata": {},
   "source": [
    "**Prepate the datasets**"
   ]
  },
  {
   "cell_type": "code",
   "execution_count": 6,
   "metadata": {},
   "outputs": [],
   "source": [
    "train_tfidf_features = np.load('train_dataset_tfidf_features.npy', allow_pickle=True)\n",
    "train_tfidf_labels = np.load('train_dataset_tfidf_labels.npy', allow_pickle=True)"
   ]
  },
  {
   "cell_type": "code",
   "execution_count": 7,
   "metadata": {},
   "outputs": [],
   "source": [
    "test_tfidf_features = np.load('test_dataset_tfidf_features.npy', allow_pickle=True)\n",
    "test_tfidf_labels = np.load('test_dataset_tfidf_labels.npy', allow_pickle=True)"
   ]
  },
  {
   "cell_type": "code",
   "execution_count": 8,
   "metadata": {},
   "outputs": [],
   "source": [
    "val_tfidf_features = np.load('val_dataset_tfidf_features.npy', allow_pickle=True)\n",
    "val_tfidf_labels = np.load('val_dataset_tfidf_labels.npy', allow_pickle=True)"
   ]
  },
  {
   "cell_type": "code",
   "execution_count": 9,
   "metadata": {},
   "outputs": [
    {
     "name": "stdout",
     "output_type": "stream",
     "text": [
      "x: (54706, 25000) float64\n",
      "y: (54706,) int64\n"
     ]
    }
   ],
   "source": [
    "# Create X/y arrays\n",
    "x_train_tfidf_u = train_tfidf_features.item()\n",
    "y_train_tfidf_u = train_tfidf_labels\n",
    "\n",
    "print('x:', x_train_tfidf_u.shape, x_train_tfidf_u.dtype)\n",
    "print('y:', y_train_tfidf_u.shape, y_train_tfidf_u.dtype)"
   ]
  },
  {
   "cell_type": "code",
   "execution_count": 10,
   "metadata": {},
   "outputs": [
    {
     "name": "stdout",
     "output_type": "stream",
     "text": [
      "x: (7599, 25000) float64\n",
      "y: (7599,) int64\n"
     ]
    }
   ],
   "source": [
    "# Create X/y arrays\n",
    "x_test_tfidf = test_tfidf_features.item()\n",
    "y_test_tfidf = test_tfidf_labels\n",
    "\n",
    "print('x:', x_test_tfidf.shape, x_test_tfidf.dtype)\n",
    "print('y:', y_test_tfidf.shape, y_test_tfidf.dtype)"
   ]
  },
  {
   "cell_type": "code",
   "execution_count": 11,
   "metadata": {},
   "outputs": [
    {
     "name": "stdout",
     "output_type": "stream",
     "text": [
      "x: (13677, 25000) float64\n",
      "y: (13677,) int64\n"
     ]
    }
   ],
   "source": [
    "# Create X/y arrays\n",
    "x_val_tfidf = val_tfidf_features.item()\n",
    "y_val_tfidf = val_tfidf_labels\n",
    "\n",
    "print('x:', x_val_tfidf.shape, x_val_tfidf.dtype)\n",
    "print('y:', y_val_tfidf.shape, y_val_tfidf.dtype)"
   ]
  },
  {
   "cell_type": "code",
   "execution_count": 12,
   "metadata": {},
   "outputs": [],
   "source": [
    "import scipy\n",
    "x_train_tfidf = scipy.sparse.vstack([x_train_tfidf_u, x_val_tfidf])\n",
    "y_train_tfidf = np.hstack((y_train_tfidf_u, y_val_tfidf))"
   ]
  },
  {
   "cell_type": "code",
   "execution_count": 13,
   "metadata": {},
   "outputs": [
    {
     "name": "stdout",
     "output_type": "stream",
     "text": [
      "x: (68383, 25000) float64\n",
      "y: (68383,) int64\n"
     ]
    }
   ],
   "source": [
    "print('x:', x_train_tfidf.shape, x_train_tfidf.dtype)\n",
    "print('y:', y_train_tfidf.shape, y_train_tfidf.dtype)"
   ]
  },
  {
   "cell_type": "markdown",
   "metadata": {},
   "source": [
    "**Hyperparameter Tuning**\n",
    "\n",
    "Both Bernoulli and Multinomial Naive Bayes have the following parameters which can be further tuned using GridSearchCV or RandomizedSearchCV.\n",
    "\n",
    "- **alpha** : float, optional (default=1.0.) Additive (Laplace/Lidstone) smoothing parameter (0 for no smoothing).\n",
    "- **fit_prior** : boolean, optional (default=True). Indicates whether to learn the class prior probabilities or not. If false, a uniform prior will be used.\n",
    "\n",
    "The most important hyperparameter in Naïve Bayes is alpha. Alpha is used for classifying a query point P(Y=1|W) or P(Y=0|W) (for our binary classification problem) where W is vector of words W = [w1, w2, w3.... wd], and d = number of features.\n",
    "\n",
    "At training time we need to find the all the probabilities:\n",
    "P(w1|Y=1) * P(w2|Y=1) * ..... P(wd|Y=1)) * P(Y=1) and the same for Y=0.\n",
    "\n",
    "At testing time, consider the case when we encounter a word which is not present in the training set. In this case, the probability of existence in a class is zero, which will make whole probability 0.\n",
    "\n",
    "Let's what would happen in this case: \n",
    "\n",
    "Consider W* word not present in training set: P(W* |Y=1) = P(W*,Y=1)/P(Y=1) \n",
    "P(W* |Y=1) = Number of training points where w* is present and Y=1 / Number of training points where Y=1\n",
    "P(W* |Y=1) = 0 / Number of training points where Y=1\n",
    "      \n",
    "To get rid of this problem we do Laplace smoothing and add alpha to the numerator and the denominator field.\n",
    "\n",
    " = 0 + alpha / Number of training point where Y=1 + (Number of class labels in classifier * alpha)\n",
    " \n",
    "In real world cases, some words occurs very few times and some more often. To think of this in different way, in the above formula (P(W|Y=1) = P(W,Y=1)/P(Y=1) ) if the numerator and the denominator fields are small means it is easily influenced by outlier or noise. Here also alpha helps as it moves the likelihood probabilities to uniform distribution as alpha increases."
   ]
  },
  {
   "cell_type": "code",
   "execution_count": 14,
   "metadata": {},
   "outputs": [],
   "source": [
    "SCORING = {'Accuracy': 'accuracy', 'F1': 'f1'}\n",
    "ALPHA_SPACE = np.linspace(0.1, 1.5, 6)\n",
    "MAX_ITER=1000 #setting max interations higher to give more time to converge\n",
    "\n",
    "\n",
    "PARAMETERS = [{\n",
    "                'classifier': [MultinomialNB()],\n",
    "                'classifier__alpha': ALPHA_SPACE,\n",
    "                'classifier__fit_prior': [True, False],\n",
    "                },\n",
    "                {\n",
    "                'classifier': [BernoulliNB()],\n",
    "                'classifier__alpha': ALPHA_SPACE,\n",
    "                'classifier__fit_prior': [True, False],\n",
    "                },\n",
    "              ]\n",
    "\n",
    "# Initialize the pipeline with any estimator    \n",
    "pipeline = Pipeline(steps = [('classifier', MultinomialNB())]) "
   ]
  },
  {
   "cell_type": "code",
   "execution_count": 15,
   "metadata": {},
   "outputs": [],
   "source": [
    "# n_jobs = Number of jobs to run in parallel. -1 means using all processors. \n",
    "gs = GridSearchCV(pipeline, PARAMETERS, cv = 5, scoring = SCORING, refit = 'F1', return_train_score = True, verbose = 3, n_jobs = 1)"
   ]
  },
  {
   "cell_type": "code",
   "execution_count": 16,
   "metadata": {},
   "outputs": [
    {
     "name": "stdout",
     "output_type": "stream",
     "text": [
      "Fitting 5 folds for each of 24 candidates, totalling 120 fits\n",
      "[CV 1/5] END classifier=MultinomialNB(), classifier__alpha=0.1, classifier__fit_prior=True; Accuracy: (train=0.876, test=0.870) F1: (train=0.882, test=0.876) total time=   0.2s\n",
      "[CV 2/5] END classifier=MultinomialNB(), classifier__alpha=0.1, classifier__fit_prior=True; Accuracy: (train=0.876, test=0.870) F1: (train=0.881, test=0.876) total time=   0.2s\n",
      "[CV 3/5] END classifier=MultinomialNB(), classifier__alpha=0.1, classifier__fit_prior=True; Accuracy: (train=0.875, test=0.873) F1: (train=0.881, test=0.878) total time=   0.2s\n",
      "[CV 4/5] END classifier=MultinomialNB(), classifier__alpha=0.1, classifier__fit_prior=True; Accuracy: (train=0.876, test=0.870) F1: (train=0.881, test=0.875) total time=   0.2s\n",
      "[CV 5/5] END classifier=MultinomialNB(), classifier__alpha=0.1, classifier__fit_prior=True; Accuracy: (train=0.877, test=0.865) F1: (train=0.882, test=0.872) total time=   0.2s\n",
      "[CV 1/5] END classifier=MultinomialNB(), classifier__alpha=0.1, classifier__fit_prior=False; Accuracy: (train=0.875, test=0.869) F1: (train=0.880, test=0.875) total time=   0.2s\n",
      "[CV 2/5] END classifier=MultinomialNB(), classifier__alpha=0.1, classifier__fit_prior=False; Accuracy: (train=0.874, test=0.869) F1: (train=0.879, test=0.875) total time=   0.2s\n",
      "[CV 3/5] END classifier=MultinomialNB(), classifier__alpha=0.1, classifier__fit_prior=False; Accuracy: (train=0.874, test=0.871) F1: (train=0.879, test=0.876) total time=   0.2s\n",
      "[CV 4/5] END classifier=MultinomialNB(), classifier__alpha=0.1, classifier__fit_prior=False; Accuracy: (train=0.874, test=0.869) F1: (train=0.879, test=0.874) total time=   0.2s\n",
      "[CV 5/5] END classifier=MultinomialNB(), classifier__alpha=0.1, classifier__fit_prior=False; Accuracy: (train=0.876, test=0.863) F1: (train=0.880, test=0.870) total time=   0.2s\n",
      "[CV 1/5] END classifier=MultinomialNB(), classifier__alpha=0.38, classifier__fit_prior=True; Accuracy: (train=0.873, test=0.867) F1: (train=0.879, test=0.873) total time=   0.2s\n",
      "[CV 2/5] END classifier=MultinomialNB(), classifier__alpha=0.38, classifier__fit_prior=True; Accuracy: (train=0.872, test=0.868) F1: (train=0.878, test=0.874) total time=   0.2s\n",
      "[CV 3/5] END classifier=MultinomialNB(), classifier__alpha=0.38, classifier__fit_prior=True; Accuracy: (train=0.871, test=0.869) F1: (train=0.877, test=0.875) total time=   0.2s\n",
      "[CV 4/5] END classifier=MultinomialNB(), classifier__alpha=0.38, classifier__fit_prior=True; Accuracy: (train=0.872, test=0.866) F1: (train=0.878, test=0.872) total time=   0.2s\n",
      "[CV 5/5] END classifier=MultinomialNB(), classifier__alpha=0.38, classifier__fit_prior=True; Accuracy: (train=0.873, test=0.861) F1: (train=0.879, test=0.868) total time=   0.2s\n",
      "[CV 1/5] END classifier=MultinomialNB(), classifier__alpha=0.38, classifier__fit_prior=False; Accuracy: (train=0.871, test=0.866) F1: (train=0.877, test=0.872) total time=   0.2s\n",
      "[CV 2/5] END classifier=MultinomialNB(), classifier__alpha=0.38, classifier__fit_prior=False; Accuracy: (train=0.870, test=0.867) F1: (train=0.876, test=0.872) total time=   0.1s\n",
      "[CV 3/5] END classifier=MultinomialNB(), classifier__alpha=0.38, classifier__fit_prior=False; Accuracy: (train=0.870, test=0.867) F1: (train=0.876, test=0.872) total time=   0.2s\n",
      "[CV 4/5] END classifier=MultinomialNB(), classifier__alpha=0.38, classifier__fit_prior=False; Accuracy: (train=0.871, test=0.865) F1: (train=0.876, test=0.870) total time=   0.2s\n",
      "[CV 5/5] END classifier=MultinomialNB(), classifier__alpha=0.38, classifier__fit_prior=False; Accuracy: (train=0.872, test=0.860) F1: (train=0.877, test=0.866) total time=   0.2s\n",
      "[CV 1/5] END classifier=MultinomialNB(), classifier__alpha=0.6599999999999999, classifier__fit_prior=True; Accuracy: (train=0.871, test=0.865) F1: (train=0.877, test=0.871) total time=   0.2s\n",
      "[CV 2/5] END classifier=MultinomialNB(), classifier__alpha=0.6599999999999999, classifier__fit_prior=True; Accuracy: (train=0.870, test=0.865) F1: (train=0.876, test=0.871) total time=   0.2s\n",
      "[CV 3/5] END classifier=MultinomialNB(), classifier__alpha=0.6599999999999999, classifier__fit_prior=True; Accuracy: (train=0.869, test=0.867) F1: (train=0.876, test=0.872) total time=   0.2s\n",
      "[CV 4/5] END classifier=MultinomialNB(), classifier__alpha=0.6599999999999999, classifier__fit_prior=True; Accuracy: (train=0.870, test=0.864) F1: (train=0.876, test=0.869) total time=   0.2s\n",
      "[CV 5/5] END classifier=MultinomialNB(), classifier__alpha=0.6599999999999999, classifier__fit_prior=True; Accuracy: (train=0.871, test=0.860) F1: (train=0.877, test=0.867) total time=   0.2s\n",
      "[CV 1/5] END classifier=MultinomialNB(), classifier__alpha=0.6599999999999999, classifier__fit_prior=False; Accuracy: (train=0.870, test=0.864) F1: (train=0.875, test=0.870) total time=   0.2s\n",
      "[CV 2/5] END classifier=MultinomialNB(), classifier__alpha=0.6599999999999999, classifier__fit_prior=False; Accuracy: (train=0.869, test=0.865) F1: (train=0.874, test=0.871) total time=   0.2s\n",
      "[CV 3/5] END classifier=MultinomialNB(), classifier__alpha=0.6599999999999999, classifier__fit_prior=False; Accuracy: (train=0.868, test=0.865) F1: (train=0.874, test=0.870) total time=   0.2s\n",
      "[CV 4/5] END classifier=MultinomialNB(), classifier__alpha=0.6599999999999999, classifier__fit_prior=False; Accuracy: (train=0.869, test=0.863) F1: (train=0.874, test=0.868) total time=   0.2s\n",
      "[CV 5/5] END classifier=MultinomialNB(), classifier__alpha=0.6599999999999999, classifier__fit_prior=False; Accuracy: (train=0.870, test=0.858) F1: (train=0.875, test=0.865) total time=   0.2s\n",
      "[CV 1/5] END classifier=MultinomialNB(), classifier__alpha=0.9399999999999998, classifier__fit_prior=True; Accuracy: (train=0.869, test=0.863) F1: (train=0.875, test=0.870) total time=   0.2s\n",
      "[CV 2/5] END classifier=MultinomialNB(), classifier__alpha=0.9399999999999998, classifier__fit_prior=True; Accuracy: (train=0.868, test=0.864) F1: (train=0.874, test=0.870) total time=   0.2s\n",
      "[CV 3/5] END classifier=MultinomialNB(), classifier__alpha=0.9399999999999998, classifier__fit_prior=True; Accuracy: (train=0.868, test=0.865) F1: (train=0.874, test=0.871) total time=   0.2s\n",
      "[CV 4/5] END classifier=MultinomialNB(), classifier__alpha=0.9399999999999998, classifier__fit_prior=True; Accuracy: (train=0.869, test=0.862) F1: (train=0.875, test=0.868) total time=   0.2s\n",
      "[CV 5/5] END classifier=MultinomialNB(), classifier__alpha=0.9399999999999998, classifier__fit_prior=True; Accuracy: (train=0.870, test=0.859) F1: (train=0.876, test=0.866) total time=   0.2s\n",
      "[CV 1/5] END classifier=MultinomialNB(), classifier__alpha=0.9399999999999998, classifier__fit_prior=False; Accuracy: (train=0.868, test=0.863) F1: (train=0.874, test=0.869) total time=   0.3s\n",
      "[CV 2/5] END classifier=MultinomialNB(), classifier__alpha=0.9399999999999998, classifier__fit_prior=False; Accuracy: (train=0.867, test=0.863) F1: (train=0.873, test=0.869) total time=   0.4s\n",
      "[CV 3/5] END classifier=MultinomialNB(), classifier__alpha=0.9399999999999998, classifier__fit_prior=False; Accuracy: (train=0.866, test=0.864) F1: (train=0.872, test=0.869) total time=   0.2s\n",
      "[CV 4/5] END classifier=MultinomialNB(), classifier__alpha=0.9399999999999998, classifier__fit_prior=False; Accuracy: (train=0.867, test=0.861) F1: (train=0.873, test=0.867) total time=   0.2s\n",
      "[CV 5/5] END classifier=MultinomialNB(), classifier__alpha=0.9399999999999998, classifier__fit_prior=False; Accuracy: (train=0.869, test=0.857) F1: (train=0.874, test=0.864) total time=   0.3s\n",
      "[CV 1/5] END classifier=MultinomialNB(), classifier__alpha=1.22, classifier__fit_prior=True; Accuracy: (train=0.868, test=0.862) F1: (train=0.874, test=0.869) total time=   0.2s\n",
      "[CV 2/5] END classifier=MultinomialNB(), classifier__alpha=1.22, classifier__fit_prior=True; Accuracy: (train=0.867, test=0.863) F1: (train=0.873, test=0.869) total time=   0.2s\n",
      "[CV 3/5] END classifier=MultinomialNB(), classifier__alpha=1.22, classifier__fit_prior=True; Accuracy: (train=0.867, test=0.865) F1: (train=0.873, test=0.871) total time=   0.2s\n",
      "[CV 4/5] END classifier=MultinomialNB(), classifier__alpha=1.22, classifier__fit_prior=True; Accuracy: (train=0.868, test=0.862) F1: (train=0.874, test=0.868) total time=   0.2s\n",
      "[CV 5/5] END classifier=MultinomialNB(), classifier__alpha=1.22, classifier__fit_prior=True; Accuracy: (train=0.868, test=0.858) F1: (train=0.875, test=0.865) total time=   0.2s\n"
     ]
    },
    {
     "name": "stdout",
     "output_type": "stream",
     "text": [
      "[CV 1/5] END classifier=MultinomialNB(), classifier__alpha=1.22, classifier__fit_prior=False; Accuracy: (train=0.867, test=0.862) F1: (train=0.873, test=0.868) total time=   0.3s\n",
      "[CV 2/5] END classifier=MultinomialNB(), classifier__alpha=1.22, classifier__fit_prior=False; Accuracy: (train=0.866, test=0.862) F1: (train=0.872, test=0.868) total time=   0.2s\n",
      "[CV 3/5] END classifier=MultinomialNB(), classifier__alpha=1.22, classifier__fit_prior=False; Accuracy: (train=0.865, test=0.863) F1: (train=0.871, test=0.869) total time=   0.2s\n",
      "[CV 4/5] END classifier=MultinomialNB(), classifier__alpha=1.22, classifier__fit_prior=False; Accuracy: (train=0.866, test=0.860) F1: (train=0.872, test=0.866) total time=   0.2s\n",
      "[CV 5/5] END classifier=MultinomialNB(), classifier__alpha=1.22, classifier__fit_prior=False; Accuracy: (train=0.868, test=0.856) F1: (train=0.873, test=0.863) total time=   0.2s\n",
      "[CV 1/5] END classifier=MultinomialNB(), classifier__alpha=1.5, classifier__fit_prior=True; Accuracy: (train=0.867, test=0.860) F1: (train=0.874, test=0.868) total time=   0.2s\n",
      "[CV 2/5] END classifier=MultinomialNB(), classifier__alpha=1.5, classifier__fit_prior=True; Accuracy: (train=0.866, test=0.862) F1: (train=0.872, test=0.868) total time=   0.2s\n",
      "[CV 3/5] END classifier=MultinomialNB(), classifier__alpha=1.5, classifier__fit_prior=True; Accuracy: (train=0.866, test=0.863) F1: (train=0.872, test=0.869) total time=   0.2s\n",
      "[CV 4/5] END classifier=MultinomialNB(), classifier__alpha=1.5, classifier__fit_prior=True; Accuracy: (train=0.867, test=0.861) F1: (train=0.873, test=0.867) total time=   0.2s\n",
      "[CV 5/5] END classifier=MultinomialNB(), classifier__alpha=1.5, classifier__fit_prior=True; Accuracy: (train=0.867, test=0.857) F1: (train=0.874, test=0.864) total time=   0.2s\n",
      "[CV 1/5] END classifier=MultinomialNB(), classifier__alpha=1.5, classifier__fit_prior=False; Accuracy: (train=0.866, test=0.860) F1: (train=0.872, test=0.867) total time=   0.2s\n",
      "[CV 2/5] END classifier=MultinomialNB(), classifier__alpha=1.5, classifier__fit_prior=False; Accuracy: (train=0.865, test=0.861) F1: (train=0.871, test=0.867) total time=   0.1s\n",
      "[CV 3/5] END classifier=MultinomialNB(), classifier__alpha=1.5, classifier__fit_prior=False; Accuracy: (train=0.864, test=0.862) F1: (train=0.870, test=0.868) total time=   0.2s\n",
      "[CV 4/5] END classifier=MultinomialNB(), classifier__alpha=1.5, classifier__fit_prior=False; Accuracy: (train=0.865, test=0.860) F1: (train=0.871, test=0.865) total time=   0.2s\n",
      "[CV 5/5] END classifier=MultinomialNB(), classifier__alpha=1.5, classifier__fit_prior=False; Accuracy: (train=0.867, test=0.856) F1: (train=0.872, test=0.862) total time=   0.2s\n",
      "[CV 1/5] END classifier=BernoulliNB(), classifier__alpha=0.1, classifier__fit_prior=True; Accuracy: (train=0.859, test=0.856) F1: (train=0.868, test=0.866) total time=   0.4s\n",
      "[CV 2/5] END classifier=BernoulliNB(), classifier__alpha=0.1, classifier__fit_prior=True; Accuracy: (train=0.857, test=0.852) F1: (train=0.867, test=0.862) total time=   0.3s\n",
      "[CV 3/5] END classifier=BernoulliNB(), classifier__alpha=0.1, classifier__fit_prior=True; Accuracy: (train=0.857, test=0.856) F1: (train=0.867, test=0.865) total time=   0.4s\n",
      "[CV 4/5] END classifier=BernoulliNB(), classifier__alpha=0.1, classifier__fit_prior=True; Accuracy: (train=0.859, test=0.861) F1: (train=0.869, test=0.869) total time=   0.4s\n",
      "[CV 5/5] END classifier=BernoulliNB(), classifier__alpha=0.1, classifier__fit_prior=True; Accuracy: (train=0.858, test=0.849) F1: (train=0.868, test=0.858) total time=   0.5s\n",
      "[CV 1/5] END classifier=BernoulliNB(), classifier__alpha=0.1, classifier__fit_prior=False; Accuracy: (train=0.859, test=0.856) F1: (train=0.868, test=0.866) total time=   0.4s\n",
      "[CV 2/5] END classifier=BernoulliNB(), classifier__alpha=0.1, classifier__fit_prior=False; Accuracy: (train=0.857, test=0.852) F1: (train=0.867, test=0.862) total time=   0.7s\n",
      "[CV 3/5] END classifier=BernoulliNB(), classifier__alpha=0.1, classifier__fit_prior=False; Accuracy: (train=0.857, test=0.856) F1: (train=0.867, test=0.866) total time=   0.5s\n",
      "[CV 4/5] END classifier=BernoulliNB(), classifier__alpha=0.1, classifier__fit_prior=False; Accuracy: (train=0.860, test=0.861) F1: (train=0.869, test=0.869) total time=   0.4s\n",
      "[CV 5/5] END classifier=BernoulliNB(), classifier__alpha=0.1, classifier__fit_prior=False; Accuracy: (train=0.858, test=0.849) F1: (train=0.868, test=0.859) total time=   0.5s\n",
      "[CV 1/5] END classifier=BernoulliNB(), classifier__alpha=0.38, classifier__fit_prior=True; Accuracy: (train=0.857, test=0.854) F1: (train=0.866, test=0.864) total time=   0.4s\n",
      "[CV 2/5] END classifier=BernoulliNB(), classifier__alpha=0.38, classifier__fit_prior=True; Accuracy: (train=0.856, test=0.851) F1: (train=0.865, test=0.861) total time=   0.4s\n",
      "[CV 3/5] END classifier=BernoulliNB(), classifier__alpha=0.38, classifier__fit_prior=True; Accuracy: (train=0.855, test=0.854) F1: (train=0.865, test=0.864) total time=   0.5s\n",
      "[CV 4/5] END classifier=BernoulliNB(), classifier__alpha=0.38, classifier__fit_prior=True; Accuracy: (train=0.858, test=0.859) F1: (train=0.867, test=0.868) total time=   0.4s\n",
      "[CV 5/5] END classifier=BernoulliNB(), classifier__alpha=0.38, classifier__fit_prior=True; Accuracy: (train=0.856, test=0.847) F1: (train=0.866, test=0.857) total time=   0.4s\n",
      "[CV 1/5] END classifier=BernoulliNB(), classifier__alpha=0.38, classifier__fit_prior=False; Accuracy: (train=0.857, test=0.855) F1: (train=0.866, test=0.864) total time=   0.4s\n",
      "[CV 2/5] END classifier=BernoulliNB(), classifier__alpha=0.38, classifier__fit_prior=False; Accuracy: (train=0.856, test=0.851) F1: (train=0.865, test=0.861) total time=   0.4s\n",
      "[CV 3/5] END classifier=BernoulliNB(), classifier__alpha=0.38, classifier__fit_prior=False; Accuracy: (train=0.856, test=0.854) F1: (train=0.865, test=0.864) total time=   0.5s\n",
      "[CV 4/5] END classifier=BernoulliNB(), classifier__alpha=0.38, classifier__fit_prior=False; Accuracy: (train=0.858, test=0.859) F1: (train=0.867, test=0.868) total time=   0.4s\n",
      "[CV 5/5] END classifier=BernoulliNB(), classifier__alpha=0.38, classifier__fit_prior=False; Accuracy: (train=0.856, test=0.847) F1: (train=0.866, test=0.857) total time=   0.4s\n",
      "[CV 1/5] END classifier=BernoulliNB(), classifier__alpha=0.6599999999999999, classifier__fit_prior=True; Accuracy: (train=0.854, test=0.851) F1: (train=0.864, test=0.861) total time=   0.4s\n",
      "[CV 2/5] END classifier=BernoulliNB(), classifier__alpha=0.6599999999999999, classifier__fit_prior=True; Accuracy: (train=0.853, test=0.848) F1: (train=0.863, test=0.858) total time=   0.4s\n",
      "[CV 3/5] END classifier=BernoulliNB(), classifier__alpha=0.6599999999999999, classifier__fit_prior=True; Accuracy: (train=0.853, test=0.851) F1: (train=0.863, test=0.862) total time=   0.4s\n",
      "[CV 4/5] END classifier=BernoulliNB(), classifier__alpha=0.6599999999999999, classifier__fit_prior=True; Accuracy: (train=0.857, test=0.858) F1: (train=0.866, test=0.867) total time=   0.4s\n",
      "[CV 5/5] END classifier=BernoulliNB(), classifier__alpha=0.6599999999999999, classifier__fit_prior=True; Accuracy: (train=0.853, test=0.844) F1: (train=0.864, test=0.855) total time=   0.4s\n",
      "[CV 1/5] END classifier=BernoulliNB(), classifier__alpha=0.6599999999999999, classifier__fit_prior=False; Accuracy: (train=0.854, test=0.851) F1: (train=0.864, test=0.861) total time=   0.4s\n",
      "[CV 2/5] END classifier=BernoulliNB(), classifier__alpha=0.6599999999999999, classifier__fit_prior=False; Accuracy: (train=0.853, test=0.848) F1: (train=0.863, test=0.858) total time=   0.3s\n",
      "[CV 3/5] END classifier=BernoulliNB(), classifier__alpha=0.6599999999999999, classifier__fit_prior=False; Accuracy: (train=0.853, test=0.851) F1: (train=0.863, test=0.862) total time=   0.4s\n",
      "[CV 4/5] END classifier=BernoulliNB(), classifier__alpha=0.6599999999999999, classifier__fit_prior=False; Accuracy: (train=0.857, test=0.858) F1: (train=0.866, test=0.867) total time=   0.3s\n",
      "[CV 5/5] END classifier=BernoulliNB(), classifier__alpha=0.6599999999999999, classifier__fit_prior=False; Accuracy: (train=0.854, test=0.845) F1: (train=0.864, test=0.855) total time=   0.4s\n",
      "[CV 1/5] END classifier=BernoulliNB(), classifier__alpha=0.9399999999999998, classifier__fit_prior=True; Accuracy: (train=0.853, test=0.850) F1: (train=0.863, test=0.860) total time=   0.4s\n"
     ]
    },
    {
     "name": "stdout",
     "output_type": "stream",
     "text": [
      "[CV 2/5] END classifier=BernoulliNB(), classifier__alpha=0.9399999999999998, classifier__fit_prior=True; Accuracy: (train=0.852, test=0.847) F1: (train=0.862, test=0.858) total time=   0.3s\n",
      "[CV 3/5] END classifier=BernoulliNB(), classifier__alpha=0.9399999999999998, classifier__fit_prior=True; Accuracy: (train=0.852, test=0.850) F1: (train=0.862, test=0.861) total time=   0.4s\n",
      "[CV 4/5] END classifier=BernoulliNB(), classifier__alpha=0.9399999999999998, classifier__fit_prior=True; Accuracy: (train=0.854, test=0.856) F1: (train=0.864, test=0.866) total time=   0.3s\n",
      "[CV 5/5] END classifier=BernoulliNB(), classifier__alpha=0.9399999999999998, classifier__fit_prior=True; Accuracy: (train=0.853, test=0.843) F1: (train=0.863, test=0.854) total time=   0.4s\n",
      "[CV 1/5] END classifier=BernoulliNB(), classifier__alpha=0.9399999999999998, classifier__fit_prior=False; Accuracy: (train=0.853, test=0.850) F1: (train=0.864, test=0.860) total time=   0.4s\n",
      "[CV 2/5] END classifier=BernoulliNB(), classifier__alpha=0.9399999999999998, classifier__fit_prior=False; Accuracy: (train=0.852, test=0.847) F1: (train=0.862, test=0.858) total time=   0.3s\n",
      "[CV 3/5] END classifier=BernoulliNB(), classifier__alpha=0.9399999999999998, classifier__fit_prior=False; Accuracy: (train=0.852, test=0.850) F1: (train=0.862, test=0.861) total time=   0.4s\n",
      "[CV 4/5] END classifier=BernoulliNB(), classifier__alpha=0.9399999999999998, classifier__fit_prior=False; Accuracy: (train=0.855, test=0.856) F1: (train=0.864, test=0.866) total time=   0.4s\n",
      "[CV 5/5] END classifier=BernoulliNB(), classifier__alpha=0.9399999999999998, classifier__fit_prior=False; Accuracy: (train=0.853, test=0.843) F1: (train=0.863, test=0.854) total time=   0.4s\n",
      "[CV 1/5] END classifier=BernoulliNB(), classifier__alpha=1.22, classifier__fit_prior=True; Accuracy: (train=0.852, test=0.849) F1: (train=0.863, test=0.860) total time=   0.3s\n",
      "[CV 2/5] END classifier=BernoulliNB(), classifier__alpha=1.22, classifier__fit_prior=True; Accuracy: (train=0.851, test=0.847) F1: (train=0.862, test=0.857) total time=   0.4s\n",
      "[CV 3/5] END classifier=BernoulliNB(), classifier__alpha=1.22, classifier__fit_prior=True; Accuracy: (train=0.851, test=0.849) F1: (train=0.861, test=0.860) total time=   0.4s\n",
      "[CV 4/5] END classifier=BernoulliNB(), classifier__alpha=1.22, classifier__fit_prior=True; Accuracy: (train=0.854, test=0.856) F1: (train=0.864, test=0.865) total time=   0.3s\n",
      "[CV 5/5] END classifier=BernoulliNB(), classifier__alpha=1.22, classifier__fit_prior=True; Accuracy: (train=0.852, test=0.843) F1: (train=0.862, test=0.854) total time=   0.6s\n",
      "[CV 1/5] END classifier=BernoulliNB(), classifier__alpha=1.22, classifier__fit_prior=False; Accuracy: (train=0.853, test=0.849) F1: (train=0.863, test=0.860) total time=   0.5s\n",
      "[CV 2/5] END classifier=BernoulliNB(), classifier__alpha=1.22, classifier__fit_prior=False; Accuracy: (train=0.851, test=0.847) F1: (train=0.862, test=0.857) total time=   0.6s\n",
      "[CV 3/5] END classifier=BernoulliNB(), classifier__alpha=1.22, classifier__fit_prior=False; Accuracy: (train=0.851, test=0.849) F1: (train=0.862, test=0.860) total time=   0.7s\n",
      "[CV 4/5] END classifier=BernoulliNB(), classifier__alpha=1.22, classifier__fit_prior=False; Accuracy: (train=0.854, test=0.856) F1: (train=0.864, test=0.865) total time=   0.6s\n",
      "[CV 5/5] END classifier=BernoulliNB(), classifier__alpha=1.22, classifier__fit_prior=False; Accuracy: (train=0.852, test=0.843) F1: (train=0.862, test=0.853) total time=   0.4s\n",
      "[CV 1/5] END classifier=BernoulliNB(), classifier__alpha=1.5, classifier__fit_prior=True; Accuracy: (train=0.852, test=0.848) F1: (train=0.862, test=0.859) total time=   0.6s\n",
      "[CV 2/5] END classifier=BernoulliNB(), classifier__alpha=1.5, classifier__fit_prior=True; Accuracy: (train=0.850, test=0.846) F1: (train=0.861, test=0.857) total time=   0.4s\n",
      "[CV 3/5] END classifier=BernoulliNB(), classifier__alpha=1.5, classifier__fit_prior=True; Accuracy: (train=0.850, test=0.848) F1: (train=0.861, test=0.859) total time=   0.4s\n",
      "[CV 4/5] END classifier=BernoulliNB(), classifier__alpha=1.5, classifier__fit_prior=True; Accuracy: (train=0.853, test=0.855) F1: (train=0.863, test=0.864) total time=   0.4s\n",
      "[CV 5/5] END classifier=BernoulliNB(), classifier__alpha=1.5, classifier__fit_prior=True; Accuracy: (train=0.851, test=0.842) F1: (train=0.862, test=0.853) total time=   0.4s\n",
      "[CV 1/5] END classifier=BernoulliNB(), classifier__alpha=1.5, classifier__fit_prior=False; Accuracy: (train=0.852, test=0.848) F1: (train=0.862, test=0.859) total time=   0.5s\n",
      "[CV 2/5] END classifier=BernoulliNB(), classifier__alpha=1.5, classifier__fit_prior=False; Accuracy: (train=0.851, test=0.846) F1: (train=0.861, test=0.857) total time=   0.5s\n",
      "[CV 3/5] END classifier=BernoulliNB(), classifier__alpha=1.5, classifier__fit_prior=False; Accuracy: (train=0.850, test=0.848) F1: (train=0.861, test=0.859) total time=   0.4s\n",
      "[CV 4/5] END classifier=BernoulliNB(), classifier__alpha=1.5, classifier__fit_prior=False; Accuracy: (train=0.853, test=0.855) F1: (train=0.863, test=0.864) total time=   0.4s\n",
      "[CV 5/5] END classifier=BernoulliNB(), classifier__alpha=1.5, classifier__fit_prior=False; Accuracy: (train=0.851, test=0.842) F1: (train=0.862, test=0.853) total time=   0.4s\n"
     ]
    },
    {
     "data": {
      "text/plain": [
       "GridSearchCV(cv=5, estimator=Pipeline(steps=[('classifier', MultinomialNB())]),\n",
       "             n_jobs=1,\n",
       "             param_grid=[{'classifier': [MultinomialNB(alpha=0.1)],\n",
       "                          'classifier__alpha': array([0.1 , 0.38, 0.66, 0.94, 1.22, 1.5 ]),\n",
       "                          'classifier__fit_prior': [True, False]},\n",
       "                         {'classifier': [BernoulliNB()],\n",
       "                          'classifier__alpha': array([0.1 , 0.38, 0.66, 0.94, 1.22, 1.5 ]),\n",
       "                          'classifier__fit_prior': [True, False]}],\n",
       "             refit='F1', return_train_score=True,\n",
       "             scoring={'Accuracy': 'accuracy', 'F1': 'f1'}, verbose=3)"
      ]
     },
     "execution_count": 16,
     "metadata": {},
     "output_type": "execute_result"
    }
   ],
   "source": [
    "gs.fit(x_train_tfidf, y_train_tfidf)"
   ]
  },
  {
   "cell_type": "code",
   "execution_count": 17,
   "metadata": {},
   "outputs": [
    {
     "name": "stdout",
     "output_type": "stream",
     "text": [
      "{'classifier': MultinomialNB(alpha=0.1), 'classifier__alpha': 0.1, 'classifier__fit_prior': True}\n",
      "0.8753687696952749\n",
      "Pipeline(steps=[('classifier', MultinomialNB(alpha=0.1))])\n"
     ]
    }
   ],
   "source": [
    "print(gs.best_params_) \n",
    "print(gs.best_score_) \n",
    "print(gs.best_estimator_)"
   ]
  },
  {
   "cell_type": "code",
   "execution_count": 18,
   "metadata": {},
   "outputs": [],
   "source": [
    "nb = gs.best_estimator_"
   ]
  },
  {
   "cell_type": "code",
   "execution_count": 19,
   "metadata": {},
   "outputs": [
    {
     "data": {
      "text/plain": [
       "Pipeline(steps=[('classifier', MultinomialNB(alpha=0.1))])"
      ]
     },
     "execution_count": 19,
     "metadata": {},
     "output_type": "execute_result"
    }
   ],
   "source": [
    "# Fit it to train data\n",
    "nb.fit(x_train_tfidf, y_train_tfidf)"
   ]
  },
  {
   "cell_type": "code",
   "execution_count": 20,
   "metadata": {},
   "outputs": [],
   "source": [
    "y_pred_test_tfidf = nb.predict(x_test_tfidf)"
   ]
  },
  {
   "cell_type": "code",
   "execution_count": 21,
   "metadata": {},
   "outputs": [],
   "source": [
    "y_probas_train_tfidf = nb.predict_proba(x_train_tfidf)\n",
    "y_probas_test_tfidf = nb.predict_proba(x_test_tfidf)"
   ]
  },
  {
   "cell_type": "code",
   "execution_count": 22,
   "metadata": {},
   "outputs": [
    {
     "name": "stdout",
     "output_type": "stream",
     "text": [
      "True Negatives:  3150\n",
      "False Positives:  560\n",
      "False Negatives:  379\n",
      "True Positives:  3510\n"
     ]
    },
    {
     "data": {
      "image/png": "[encoded data removed]",
      "text/plain": [
       "<Figure size 360x360 with 2 Axes>"
      ]
     },
     "metadata": {
      "needs_background": "light"
     },
     "output_type": "display_data"
    }
   ],
   "source": [
    "plot_cfm(y_test_tfidf, y_pred_test_tfidf)"
   ]
  },
  {
   "cell_type": "code",
   "execution_count": 23,
   "metadata": {},
   "outputs": [
    {
     "name": "stdout",
     "output_type": "stream",
     "text": [
      "              precision    recall  f1-score   support\n",
      "\n",
      "           0       0.89      0.85      0.87      3710\n",
      "           1       0.86      0.90      0.88      3889\n",
      "\n",
      "    accuracy                           0.88      7599\n",
      "   macro avg       0.88      0.88      0.88      7599\n",
      "weighted avg       0.88      0.88      0.88      7599\n",
      "\n"
     ]
    }
   ],
   "source": [
    "print(classification_report(y_test_tfidf, y_pred_test_tfidf))"
   ]
  },
  {
   "cell_type": "code",
   "execution_count": 24,
   "metadata": {},
   "outputs": [
    {
     "name": "stdout",
     "output_type": "stream",
     "text": [
      "F1: 0.88\n"
     ]
    }
   ],
   "source": [
    "f1_tfidf = f1_score(y_test_tfidf, y_pred_test_tfidf, average = 'weighted')\n",
    "print('F1: %.2f' % f1_tfidf)"
   ]
  },
  {
   "cell_type": "code",
   "execution_count": 25,
   "metadata": {},
   "outputs": [
    {
     "name": "stdout",
     "output_type": "stream",
     "text": [
      "AUC: 0.95\n"
     ]
    }
   ],
   "source": [
    "# Use predict_proba(X)[:, 1] to extract the probability that samples belong to the bullying class.\n",
    "auc_tfidf = roc_auc_score(y_test_tfidf, y_probas_test_tfidf[:, 1])\n",
    "print('AUC: %.2f' % auc_tfidf)"
   ]
  },
  {
   "cell_type": "code",
   "execution_count": 26,
   "metadata": {},
   "outputs": [
    {
     "data": {
      "image/png": "[encoded data removed]",
      "text/plain": [
       "<Figure size 864x720 with 1 Axes>"
      ]
     },
     "metadata": {
      "needs_background": "light"
     },
     "output_type": "display_data"
    }
   ],
   "source": [
    "plot_roc(\"Train\", y_train_tfidf, y_probas_train_tfidf[:, 1], color = colors[0])\n",
    "plot_roc(\"Test\", y_test_tfidf, y_probas_test_tfidf[:, 1], color = colors[0], linestyle = '--')"
   ]
  },
  {
   "cell_type": "code",
   "execution_count": 27,
   "metadata": {},
   "outputs": [
    {
     "data": {
      "text/plain": [
       "['./nb.joblib']"
      ]
     },
     "execution_count": 27,
     "metadata": {},
     "output_type": "execute_result"
    }
   ],
   "source": [
    "import joblib\n",
    "# save\n",
    "joblib.dump(nb, \"./nb.joblib\")"
   ]
  },
  {
   "cell_type": "code",
   "execution_count": 29,
   "metadata": {},
   "outputs": [],
   "source": [
    "# Saving model to current directory\n",
    "# Pickle serializes objects so they can be saved to a file, and loaded in a program again later on.\n",
    "import pickle\n",
    "pickle.dump(nb, open('nb.pkl','wb'))"
   ]
  },
  {
   "cell_type": "code",
   "execution_count": null,
   "metadata": {},
   "outputs": [],
   "source": []
  }
 ],
 "metadata": {
  "kernelspec": {
   "display_name": "Python 3",
   "language": "python",
   "name": "python3"
  },
  "language_info": {
   "codemirror_mode": {
    "name": "ipython",
    "version": 3
   },
   "file_extension": ".py",
   "mimetype": "text/x-python",
   "name": "python",
   "nbconvert_exporter": "python",
   "pygments_lexer": "ipython3",
   "version": "3.8.3"
  }
 },
 "nbformat": 4,
 "nbformat_minor": 2
}
