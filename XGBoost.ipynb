{
 "cells": [
  {
   "cell_type": "markdown",
   "metadata": {},
   "source": [
    "# XGBoost"
   ]
  },
  {
   "cell_type": "code",
   "execution_count": 1,
   "metadata": {},
   "outputs": [],
   "source": [
    "import numpy as np\n",
    "import pandas as pd\n",
    "import matplotlib as mpl\n",
    "import matplotlib.pyplot as plt  \n",
    "import seaborn as sns\n",
    "\n",
    "\n",
    "from sklearn.metrics import f1_score\n",
    "from sklearn.model_selection import GridSearchCV, train_test_split\n",
    "from sklearn.pipeline import Pipeline\n",
    "from sklearn import metrics\n",
    "from sklearn.metrics import classification_report\n",
    "from sklearn.metrics import f1_score, roc_auc_score, roc_curve\n",
    "\n",
    "\n",
    "# !pip install xgboost\n",
    "\n",
    "import xgboost as xgb\n",
    "from xgboost import XGBClassifier\n",
    "from xgboost import plot_tree\n",
    "\n",
    "import warnings\n",
    "warnings.filterwarnings('ignore')\n",
    "warnings.simplefilter('ignore')"
   ]
  },
  {
   "cell_type": "code",
   "execution_count": 2,
   "metadata": {},
   "outputs": [],
   "source": [
    "#keep the same random state for reproducibility\n",
    "RANDOM_STATE = 12\n",
    "TRAIN_TEST_SPLIT_SIZE = .1\n",
    "VALIDATION_SPLIT_SIZE = .2"
   ]
  },
  {
   "cell_type": "markdown",
   "metadata": {},
   "source": [
    "**XGBoost**\n",
    "\n",
    "Extreme Gradient Boosting (xgboost) is an advanced implementation of the gradient boosting algorithm. It has both linear model solver and tree learning algorithms. Its ability to do parallel computation on a single machine makes it extremely fast. \n",
    "\n",
    "Some key benefits of XGBoost are:\n",
    "\n",
    "- Regularization - helps in reducing overfitting\n",
    "\n",
    "- Parallel Processing - XGBoost implements parallel processing and is blazingly faster as compared to GBM.\n",
    "\n",
    "- Handling Missing Values - It has an in-built routine to handle missing values.\n",
    "\n",
    "- Built-in Cross-Validation - allows user to run a cross-validation at each iteration of the boosting process\n",
    "\n",
    "\n",
    "For this part I will perform the following steps:\n",
    "- Evaluate the XGBoost model for the different word embeddings\n",
    "- Tune the regularization strength parameter with cross-validated grid-search for each type of embeddings\n",
    "- Check the predictions against the actual values\n",
    "- Compare the results for the different word embeddings"
   ]
  },
  {
   "cell_type": "markdown",
   "metadata": {},
   "source": [
    "**Hyperparameter Tuning**\n",
    "\n",
    "XGBoost has quite a many tuning parameters and sometimes it becomes tricky to properly tune them. I used these guides for ideas on how to tune the model:\n",
    "\n",
    "https://www.analyticsvidhya.com/blog/2016/03/complete-guide-parameter-tuning-xgboost-with-codes-python/\n",
    "https://blog.cambridgespark.com/hyperparameter-tuning-in-xgboost-4ff9100a3b2f\n",
    "https://towardsdatascience.com/fine-tuning-xgboost-in-python-like-a-boss-b4543ed8b1e"
   ]
  },
  {
   "cell_type": "markdown",
   "metadata": {},
   "source": [
    "**Quick note on the method**\n",
    "\n",
    "In an ideal world, with infinite resources and where time is not an issue, I could run a giant grid search with all the parameters together and find the optimal solution. In fact, I gave it a try: using TFIDF I managed to find the optimal parameters after about 8 hours. For Word2Vec and using the same searh space as here I had to give up after 20 hours. Perhaps it is still doable with really small datasets, but for this dataset (which is by far not the largest), the training time was growing exponentially, and each step in the tuning process was becoming more and more expensive. \n",
    "\n",
    "In practice this approach is rarely feasible, so instead I'll go through the parameters one or two at a time. After careful reading, I decided to tune 5 of the hyperparameters that usually have a big impact on the performance. In theory it would be necessary to test all combinations to ensure we find THE optimal solution, but here I will try to find a good enough one by improving the model with a reasonable number of steps.\n",
    "\n",
    "I somehow wanted to still give it a try using GridSearchCV as well, so I decided to try using a smaller search space. Interestingly enough, although the parameters I found here by manual trials were in the search space, GridSearchCV found different best parameters. Even though the parameters found were different, the results are the same. This tells us that tuning the parameters has little influence on the results, and the quality of the results is mostly influenced by the size and quality of the data set, and there isn't much more that can be done to improve these results."
   ]
  },
  {
   "cell_type": "markdown",
   "metadata": {},
   "source": [
    "\n",
    "**Approach for Parameter Tuning**\n",
    "\n",
    "- Choose a relatively high learning rate. The default learning rate of 0.3 used at this stage. \n",
    "\n",
    "- Tune tree-specific parameters such as max_depth, min_child_weight, subsample, colsample_bytree keeping the learning rate fixed.\n",
    "\n",
    "- Tune the learning rate.\n",
    "\n",
    "- Finally tune gamma to avoid overfitting (optional).\n",
    "\n",
    "- Determine the optimum number of trees. XGBoost also has its own cv function which performs cross-validation at each boosting iteration and returns the optimum number of trees required. I will set a very high number of trees (or num_boost_round in XGBoost terminology and rely on early stopping."
   ]
  },
  {
   "cell_type": "markdown",
   "metadata": {},
   "source": [
    "**Using XGBoost’s CV**\n",
    "\n",
    "In order to tune the hyperparameters, I will use the cv function from XGBoost. It allows  to run cross-validation on the training dataset and returns a score (either built-in or customly defined).\n",
    "It requires the following inputs:\n",
    "- params: dictionary of parameters.\n",
    "- dtrain matrix.\n",
    "- num_boost_round: number of boosting rounds. Here I will use a large number and count on early_stopping_rounds to find the optimal number of rounds before reaching the maximum.\n",
    "- seed: random seed. It's important to set a seed here, to ensure we are using the same folds for each step so we can properly compare the scores with different parameters.\n",
    "- nfold: the number of folds to use for cross-validation. Setting this to 5, same as for the other classifiers.\n",
    "- metrics: the metrics to use to evaluate the model. For this part I have defined a custom F1 score metric, since XGBoost does not have one natively, and I wanted to compare to other classifiers using the same metric.\n",
    "\n",
    "\n",
    "**A note about num_boost_round and early_stopping_rounds**\n",
    "\n",
    "XGBoost is a gradient boosting method, as such it adds trees in every iteration to improve the prediction accuracy (performance). \n",
    "\n",
    "The prediction performance increases when you add more and more trees until it starts to overfit, at which point the it will start to decrease. So we need to find that optimum number of trees. It is basically impossible to guess this number, and this is what XGBoost.cv is for. It partitions the training data into two subsets. The first subset is used to train XGBoost, the second is used as a validation set. After each iteration (which adds an additional tree) XGBoost calculates the new validation error. With that XGBoost is able to detect when it starts to overfit (when the chosen evaluation metric starts to either increase (loss), or decrease (our custom F1 score)). This will give us the optimal number of trees for a given set of hyperparameters.\n",
    "\n",
    "The num_boost_rounds (number of trees) parameter is not part of the PARAMETERS dictionary, but it is also a tunable parameter. num_boost_round corresponds to the number of boosting rounds or trees to build. Its optimal value highly depends on the other parameters. This means it should be re-tuned each time we update a parameter. I could do this by tuning it together with all parameters in the grid-search, but it requires a lot of computational effort. Fortunately XGBoost provides a nice way to find the best number of rounds while training. Since trees are built sequentially, instead of fixing the number of rounds at the beginning, we can test our model at each step and see if adding a new tree/boost round improves performance. If the performance hasn’t improved for a specific number of rounds (as defined by the variable early_stopping_round), we stop the training and keep the best number of boosting rounds. \n",
    "\n",
    "\n",
    "I've decided here to use the XGBoost algorithm directly for tuning (mostly because it makes cross validation easy), there is also a scikit learn wrapper around XGBoost called XGBRegressor. The XGBoost algorithm is more customizeable, but the scikit learn wrapper plays more nicely with pipelines (and doesn't need DMatrix input)."
   ]
  },
  {
   "cell_type": "markdown",
   "metadata": {},
   "source": [
    "***\n",
    "\n",
    "**Utility Functions**\n",
    "\n",
    "***"
   ]
  },
  {
   "cell_type": "code",
   "execution_count": 3,
   "metadata": {},
   "outputs": [],
   "source": [
    "def custom_f1_score(preds, d_train):\n",
    "    labels = d_train.get_label().astype(np.int)\n",
    "    preds = (preds >= 0.5).astype(np.int)\n",
    "    return [('f1_score', f1_score(labels, preds))]"
   ]
  },
  {
   "cell_type": "code",
   "execution_count": 4,
   "metadata": {},
   "outputs": [],
   "source": [
    "# setup color scheme and standard figure size for all figures\n",
    "mpl.rcParams['figure.figsize'] = (12, 10)\n",
    "colors = plt.rcParams['axes.prop_cycle'].by_key()['color']"
   ]
  },
  {
   "cell_type": "code",
   "execution_count": 5,
   "metadata": {},
   "outputs": [],
   "source": [
    "def plot_cfm(labels, predictions, p = 0.5):\n",
    "    cfm = metrics.confusion_matrix(labels, predictions > p)\n",
    "    plt.figure(figsize = (5,5))\n",
    "    sns.heatmap(cfm, annot = True, fmt = \"d\")\n",
    "    plt.title('Confusion matrix @{:.2f}'.format(p))\n",
    "    plt.ylabel('Actual values')\n",
    "    plt.xlabel('Predicted values')\n",
    "\n",
    "    print('True Negatives: ', cfm[0][0])\n",
    "    print('False Positives: ', cfm[0][1])\n",
    "    print('False Negatives: ', cfm[1][0])\n",
    "    print('True Positives: ', cfm[1][1])"
   ]
  },
  {
   "cell_type": "code",
   "execution_count": 6,
   "metadata": {},
   "outputs": [],
   "source": [
    "def plot_roc(name, labels, predictions, **kwargs):\n",
    "    fp, tp, _ = roc_curve(labels, predictions)\n",
    "    roc_auc = metrics.auc(fp, tp)    \n",
    "    plt.title('Receiver Operating Characteristic')\n",
    "    plt.plot(fp, tp, label = name + ' AUC = %0.2f' % roc_auc, linewidth=2, **kwargs)\n",
    "    plt.legend(loc = 'lower right')\n",
    "    plt.plot([0, 1], [0, 1], linewidth=2, color=colors[6], linestyle=':')\n",
    "    plt.xlabel('False positives [%]')\n",
    "    plt.ylabel('True positives [%]')\n",
    "    plt.grid(True)\n",
    "    ax = plt.gca()\n",
    "    ax.set_aspect('equal')"
   ]
  },
  {
   "cell_type": "code",
   "execution_count": 7,
   "metadata": {},
   "outputs": [],
   "source": [
    "def init_params():\n",
    "#     Initialize with default parameters\n",
    "    PARAMETERS['max_depth'] = 6\n",
    "    PARAMETERS['min_child_weight'] = 1\n",
    "    PARAMETERS['eta'] = .3\n",
    "    PARAMETERS['subsample'] = 1\n",
    "    PARAMETERS['colsample_bytree'] = 1\n",
    "    return PARAMETERS"
   ]
  },
  {
   "cell_type": "code",
   "execution_count": 8,
   "metadata": {},
   "outputs": [],
   "source": [
    "def cross_validation(PARAMETERS, d_train):\n",
    "    cv_results = xgb.cv(PARAMETERS,\n",
    "        d_train,\n",
    "        feval = custom_f1_score,\n",
    "        num_boost_round = NUM_BOOST_ROUNDS,\n",
    "        maximize = True,\n",
    "        seed = RANDOM_SEED,\n",
    "        nfold = 5,\n",
    "        early_stopping_rounds = EARLY_STOPPING_ROUNDS\n",
    "    )\n",
    "    return cv_results"
   ]
  },
  {
   "cell_type": "markdown",
   "metadata": {},
   "source": [
    "***\n",
    "\n",
    "**TF-IDF**\n",
    "\n",
    "***"
   ]
  },
  {
   "cell_type": "markdown",
   "metadata": {},
   "source": [
    "**Prepare the data set and DMatrices**"
   ]
  },
  {
   "cell_type": "code",
   "execution_count": 9,
   "metadata": {},
   "outputs": [],
   "source": [
    "train_tfidf_features = np.load('train_dataset_tfidf_features.npy', allow_pickle=True)\n",
    "train_tfidf_labels = np.load('train_dataset_tfidf_labels.npy', allow_pickle=True)"
   ]
  },
  {
   "cell_type": "code",
   "execution_count": 10,
   "metadata": {},
   "outputs": [],
   "source": [
    "test_tfidf_features = np.load('test_dataset_tfidf_features.npy', allow_pickle=True)\n",
    "test_tfidf_labels = np.load('test_dataset_tfidf_labels.npy', allow_pickle=True)"
   ]
  },
  {
   "cell_type": "code",
   "execution_count": 11,
   "metadata": {},
   "outputs": [],
   "source": [
    "val_tfidf_features = np.load('val_dataset_tfidf_features.npy', allow_pickle=True)\n",
    "val_tfidf_labels = np.load('val_dataset_tfidf_labels.npy', allow_pickle=True)"
   ]
  },
  {
   "cell_type": "code",
   "execution_count": 12,
   "metadata": {},
   "outputs": [
    {
     "name": "stdout",
     "output_type": "stream",
     "text": [
      "x: (54706, 25000) float64\n",
      "y: (54706,) int64\n"
     ]
    }
   ],
   "source": [
    "# Create X/y arrays\n",
    "x_train_tfidf = train_tfidf_features.item()\n",
    "y_train_tfidf = train_tfidf_labels\n",
    "\n",
    "print('x:', x_train_tfidf.shape, x_train_tfidf.dtype)\n",
    "print('y:', y_train_tfidf.shape, y_train_tfidf.dtype)"
   ]
  },
  {
   "cell_type": "code",
   "execution_count": 13,
   "metadata": {},
   "outputs": [
    {
     "name": "stdout",
     "output_type": "stream",
     "text": [
      "x: (7599, 25000) float64\n",
      "y: (7599,) int64\n"
     ]
    }
   ],
   "source": [
    "# Create X/y arrays\n",
    "x_test_tfidf = test_tfidf_features.item()\n",
    "y_test_tfidf = test_tfidf_labels\n",
    "\n",
    "print('x:', x_test_tfidf.shape, x_test_tfidf.dtype)\n",
    "print('y:', y_test_tfidf.shape, y_test_tfidf.dtype)"
   ]
  },
  {
   "cell_type": "code",
   "execution_count": 14,
   "metadata": {},
   "outputs": [
    {
     "name": "stdout",
     "output_type": "stream",
     "text": [
      "x: (13677, 25000) float64\n",
      "y: (13677,) int64\n"
     ]
    }
   ],
   "source": [
    "# Create X/y arrays\n",
    "x_val_tfidf = val_tfidf_features.item()\n",
    "y_val_tfidf = val_tfidf_labels\n",
    "\n",
    "print('x:', x_val_tfidf.shape, x_val_tfidf.dtype)\n",
    "print('y:', y_val_tfidf.shape, y_val_tfidf.dtype)"
   ]
  },
  {
   "cell_type": "markdown",
   "metadata": {},
   "source": [
    "Instead of numpy arrays or pandas data frames, XGBoost uses DMatrices. A DMatrix can contain both the features and the target. The data is already loaded into arrays, so I can use them to create the DMatrix. "
   ]
  },
  {
   "cell_type": "code",
   "execution_count": 15,
   "metadata": {},
   "outputs": [],
   "source": [
    "# A DMatrix can contain both the features and the target.\n",
    "d_train_tfidf = xgb.DMatrix(x_train_tfidf, label = y_train_tfidf) \n",
    "d_test_tfidf = xgb.DMatrix(x_test_tfidf, label = y_test_tfidf)\n",
    "d_val_tfidf = xgb.DMatrix(x_val_tfidf, label = y_val_tfidf)\n",
    "watchlist_tfidf = [(d_train_tfidf, 'train'), (d_val_tfidf, 'val')]"
   ]
  },
  {
   "cell_type": "code",
   "execution_count": 16,
   "metadata": {},
   "outputs": [],
   "source": [
    "# Initialize with default parameters\n",
    "PARAMETERS = {\n",
    "     'objective':'binary:logistic',\n",
    "     'max_depth': 6,\n",
    "     'min_child_weight': 1,\n",
    "     'eta': .3,\n",
    "     'subsample': 1,\n",
    "     'colsample_bytree': 1,\n",
    "     'verbosity': 0 # add this line to slient warning message\n",
    "  }"
   ]
  },
  {
   "cell_type": "code",
   "execution_count": 17,
   "metadata": {},
   "outputs": [],
   "source": [
    "RANDOM_SEED = 12\n",
    "NUM_BOOST_ROUNDS = 1000\n",
    "EARLY_STOPPING_ROUNDS = 20"
   ]
  },
  {
   "cell_type": "markdown",
   "metadata": {},
   "source": [
    "**Tune max_depth and min_child_weight** \n",
    "\n",
    "I'll tune these concurrently using a basic grid search, meaning I'll test all combinations of the two variables in a certain range. Whichever combination has the best cross validation score, will be set as values for the next round.\n",
    "\n",
    "\n",
    "- max_depth is the largest depth allowed on any decision tree in the ensemble, where tree depth is the number of nodes from the root down to the farthest away leaf. Larger max_depth values allow for more complex trees, which means a larger chance of capturing complicated features but also a larger chance of overfitting.\n",
    "- min_child_weight is a regularization factor that changes how often tree nodes split in tree creation. Only nodes with a hessian (second order partial derivative) larger than min_child_weight are allowed to split. Smaller min_child_weight values mean more complex trees, and therefore more chance of overfitting."
   ]
  },
  {
   "cell_type": "code",
   "execution_count": 18,
   "metadata": {},
   "outputs": [
    {
     "name": "stdout",
     "output_type": "stream",
     "text": [
      "Performing cross validation for parameters max_depth = 3, min_child_weight = 1\n",
      "\tF1 Score 0.9642224 reached after 566 rounds\n",
      "Performing cross validation for parameters max_depth = 3, min_child_weight = 3\n",
      "\tF1 Score 0.9639492000000001 reached after 590 rounds\n",
      "Performing cross validation for parameters max_depth = 3, min_child_weight = 5\n",
      "\tF1 Score 0.9613791999999999 reached after 456 rounds\n",
      "Performing cross validation for parameters max_depth = 5, min_child_weight = 1\n",
      "\tF1 Score 0.9654366 reached after 415 rounds\n",
      "Performing cross validation for parameters max_depth = 5, min_child_weight = 3\n",
      "\tF1 Score 0.9629768000000001 reached after 304 rounds\n",
      "Performing cross validation for parameters max_depth = 5, min_child_weight = 5\n",
      "\tF1 Score 0.9638832 reached after 355 rounds\n",
      "Performing cross validation for parameters max_depth = 7, min_child_weight = 1\n",
      "\tF1 Score 0.965192 reached after 281 rounds\n",
      "Performing cross validation for parameters max_depth = 7, min_child_weight = 3\n",
      "\tF1 Score 0.9638082000000001 reached after 215 rounds\n",
      "Performing cross validation for parameters max_depth = 7, min_child_weight = 5\n",
      "\tF1 Score 0.963578 reached after 217 rounds\n",
      "Performing cross validation for parameters max_depth = 9, min_child_weight = 1\n",
      "\tF1 Score 0.964838 reached after 239 rounds\n",
      "Performing cross validation for parameters max_depth = 9, min_child_weight = 3\n",
      "\tF1 Score 0.9644508 reached after 277 rounds\n",
      "Performing cross validation for parameters max_depth = 9, min_child_weight = 5\n",
      "\tF1 Score 0.9643222 reached after 201 rounds\n",
      "Best params: 5, 1, F1 Score: 0.9654366\n"
     ]
    }
   ],
   "source": [
    "# Tune max_depth and min_child_weight\n",
    "gs_space = [\n",
    "    (max_depth, min_child_weight)\n",
    "    for max_depth in range(3,10,2)\n",
    "        for min_child_weight in range(1,6,2)\n",
    "]\n",
    "max_f1 = 0. # initializing with 0 \n",
    "best_params = None \n",
    "for max_depth, min_child_weight in gs_space:\n",
    "    print(\"Performing cross validation for parameters max_depth = {}, min_child_weight = {}\".format(max_depth, min_child_weight))\n",
    "    \n",
    "    # Update parameters\n",
    "    PARAMETERS['max_depth'] = max_depth\n",
    "    PARAMETERS['min_child_weight'] = min_child_weight\n",
    "    \n",
    "    # Run cross validation\n",
    "    cv_results = cross_validation(PARAMETERS, d_train_tfidf)\n",
    "    \n",
    "    # Find best F1 Score\n",
    "    mean_f1 = cv_results['test-f1_score-mean'].max()\n",
    "    \n",
    "    boost_rounds = np.argmax(cv_results['test-f1_score-mean'])    \n",
    "    print(\"\\tF1 Score {} reached after {} rounds\".format(mean_f1, boost_rounds))    \n",
    "    if mean_f1 > max_f1:\n",
    "        max_f1 = mean_f1\n",
    "        best_params = (max_depth, min_child_weight) \n",
    "\n",
    "print(\"Best params: {}, {}, F1 Score: {}\".format(best_params[0], best_params[1], max_f1))"
   ]
  },
  {
   "cell_type": "code",
   "execution_count": 19,
   "metadata": {},
   "outputs": [],
   "source": [
    "# Update max_depth and min_child_weight parameters.\n",
    "PARAMETERS['max_depth'] = best_params[0]\n",
    "PARAMETERS['min_child_weight'] = best_params[1]"
   ]
  },
  {
   "cell_type": "markdown",
   "metadata": {},
   "source": [
    "**Tune subsample and colsample**\n",
    "\n",
    "- subsample is the fraction of datapoints (rows of the training data) to sample at each round (each tree), with 0 meaning no rows are sampled and 1 meaning all rows are sampled. The higher the value, the more likely to overfit the data.\n",
    "- colsample_bytree is the fraction of features (columns of the training data) to sample at each round (each tree), with 0 meaning no columns are sampled and 1 meaning all columns are sampled. The higher the value, the more likely to overfit the data."
   ]
  },
  {
   "cell_type": "code",
   "execution_count": 20,
   "metadata": {},
   "outputs": [
    {
     "name": "stdout",
     "output_type": "stream",
     "text": [
      "Performing cross validation for parameters subsample = 0.5, colsample_bytree = 0.5\n",
      "\tF1 Score 0.9600892 reached after 283 rounds\n",
      "Performing cross validation for parameters subsample = 0.5, colsample_bytree = 0.6\n",
      "\tF1 Score 0.9600630000000001 reached after 333 rounds\n",
      "Performing cross validation for parameters subsample = 0.5, colsample_bytree = 0.7\n",
      "\tF1 Score 0.9576927999999999 reached after 218 rounds\n",
      "Performing cross validation for parameters subsample = 0.5, colsample_bytree = 0.8\n",
      "\tF1 Score 0.9578936 reached after 200 rounds\n",
      "Performing cross validation for parameters subsample = 0.5, colsample_bytree = 0.9\n",
      "\tF1 Score 0.9588958 reached after 261 rounds\n",
      "Performing cross validation for parameters subsample = 0.6, colsample_bytree = 0.5\n",
      "\tF1 Score 0.9608292 reached after 272 rounds\n",
      "Performing cross validation for parameters subsample = 0.6, colsample_bytree = 0.6\n",
      "\tF1 Score 0.9617634 reached after 379 rounds\n",
      "Performing cross validation for parameters subsample = 0.6, colsample_bytree = 0.7\n",
      "\tF1 Score 0.9612722 reached after 321 rounds\n",
      "Performing cross validation for parameters subsample = 0.6, colsample_bytree = 0.8\n",
      "\tF1 Score 0.9610743999999999 reached after 267 rounds\n",
      "Performing cross validation for parameters subsample = 0.6, colsample_bytree = 0.9\n",
      "\tF1 Score 0.9596790000000001 reached after 215 rounds\n",
      "Performing cross validation for parameters subsample = 0.7, colsample_bytree = 0.5\n",
      "\tF1 Score 0.9610582000000001 reached after 253 rounds\n",
      "Performing cross validation for parameters subsample = 0.7, colsample_bytree = 0.6\n",
      "\tF1 Score 0.9619006000000001 reached after 264 rounds\n",
      "Performing cross validation for parameters subsample = 0.7, colsample_bytree = 0.7\n",
      "\tF1 Score 0.9633811999999999 reached after 370 rounds\n",
      "Performing cross validation for parameters subsample = 0.7, colsample_bytree = 0.8\n",
      "\tF1 Score 0.963332 reached after 382 rounds\n",
      "Performing cross validation for parameters subsample = 0.7, colsample_bytree = 0.9\n",
      "\tF1 Score 0.963417 reached after 341 rounds\n",
      "Performing cross validation for parameters subsample = 0.8, colsample_bytree = 0.5\n",
      "\tF1 Score 0.9632834000000001 reached after 318 rounds\n",
      "Performing cross validation for parameters subsample = 0.8, colsample_bytree = 0.6\n",
      "\tF1 Score 0.9631223999999999 reached after 286 rounds\n",
      "Performing cross validation for parameters subsample = 0.8, colsample_bytree = 0.7\n",
      "\tF1 Score 0.9626998 reached after 276 rounds\n",
      "Performing cross validation for parameters subsample = 0.8, colsample_bytree = 0.8\n",
      "\tF1 Score 0.9626032 reached after 254 rounds\n",
      "Performing cross validation for parameters subsample = 0.8, colsample_bytree = 0.9\n",
      "\tF1 Score 0.962317 reached after 257 rounds\n",
      "Performing cross validation for parameters subsample = 0.9, colsample_bytree = 0.5\n",
      "\tF1 Score 0.9639382 reached after 303 rounds\n",
      "Performing cross validation for parameters subsample = 0.9, colsample_bytree = 0.6\n",
      "\tF1 Score 0.9651875999999999 reached after 346 rounds\n",
      "Performing cross validation for parameters subsample = 0.9, colsample_bytree = 0.7\n",
      "\tF1 Score 0.9628862 reached after 250 rounds\n",
      "Performing cross validation for parameters subsample = 0.9, colsample_bytree = 0.8\n",
      "\tF1 Score 0.9641350000000001 reached after 265 rounds\n",
      "Performing cross validation for parameters subsample = 0.9, colsample_bytree = 0.9\n",
      "\tF1 Score 0.9646652 reached after 319 rounds\n",
      "Best params: 0.9, 0.6, F1 Score: 0.9651875999999999\n"
     ]
    }
   ],
   "source": [
    "# Tuning subsample and colsample\n",
    "gs_space = [\n",
    "    (subsample, colsample_bytree)\n",
    "    for subsample in [i/10. for i in range(5,10)]\n",
    "    for colsample_bytree in [i/10. for i in range(5,10)] \n",
    "]\n",
    "max_f1 = 0. \n",
    "best_params = None \n",
    "for subsample, colsample_bytree in gs_space:\n",
    "    print(\"Performing cross validation for parameters subsample = {}, colsample_bytree = {}\".format(subsample, colsample_bytree))\n",
    "    \n",
    "    # Update parameters\n",
    "    PARAMETERS['colsample_bytree'] = colsample_bytree\n",
    "    PARAMETERS['subsample'] = subsample\n",
    "    \n",
    "    # Run cross validation\n",
    "    cv_results = cross_validation(PARAMETERS, d_train_tfidf)\n",
    "\n",
    "    # Find best F1 Score\n",
    "    mean_f1 = cv_results['test-f1_score-mean'].max()\n",
    "    boost_rounds = np.argmax(cv_results['test-f1_score-mean'])    \n",
    "    print(\"\\tF1 Score {} reached after {} rounds\".format(mean_f1, boost_rounds))\n",
    "    if mean_f1 > max_f1:\n",
    "        max_f1 = mean_f1\n",
    "        best_params = (subsample, colsample_bytree) \n",
    "\n",
    "print(\"Best params: {}, {}, F1 Score: {}\".format(best_params[0], best_params[1], max_f1))"
   ]
  },
  {
   "cell_type": "code",
   "execution_count": 21,
   "metadata": {},
   "outputs": [],
   "source": [
    "# Update subsample and colsample_bytree\n",
    "PARAMETERS['subsample'] = best_params[0]\n",
    "PARAMETERS['colsample_bytree'] = best_params[1]"
   ]
  },
  {
   "cell_type": "markdown",
   "metadata": {},
   "source": [
    "**Tune eta**\n",
    "\n",
    "Eta in XGBoost works the same way as a learning_rate, in the sense that it controls how quickly each step changes. The smaller the eta, the smaller each step, which means the algorithm will likely take more steps to converge."
   ]
  },
  {
   "cell_type": "code",
   "execution_count": 22,
   "metadata": {},
   "outputs": [
    {
     "name": "stdout",
     "output_type": "stream",
     "text": [
      "Performing cross validation for parameter eta = 0.3\n",
      "\tF1 Score 0.9651875999999999 reached after 346 rounds\n",
      "Performing cross validation for parameter eta = 0.2\n",
      "\tF1 Score 0.9644278 reached after 405 rounds\n",
      "Performing cross validation for parameter eta = 0.1\n",
      "\tF1 Score 0.9650994 reached after 756 rounds\n",
      "Performing cross validation for parameter eta = 0.05\n",
      "\tF1 Score 0.960369 reached after 824 rounds\n",
      "Performing cross validation for parameter eta = 0.01\n",
      "\tF1 Score 0.0 reached after 0 rounds\n",
      "Performing cross validation for parameter eta = 0.005\n",
      "\tF1 Score 0.0 reached after 0 rounds\n",
      "Best params: 0.3, F1 Score: 0.9651875999999999\n"
     ]
    }
   ],
   "source": [
    "# Tune the learning rate.\n",
    "max_f1 = 0. \n",
    "best_params = None \n",
    "for eta in [.3, .2, .1, .05, .01, .005]:\n",
    "    print(\"Performing cross validation for parameter eta = {}\".format(eta))\n",
    "    \n",
    "    # Update ETA\n",
    "    PARAMETERS['eta'] = eta\n",
    "    \n",
    "    # Run cross validation\n",
    "    cv_results = cross_validation(PARAMETERS, d_train_tfidf)\n",
    "\n",
    "    # Find best F1 Score\n",
    "    mean_f1 = cv_results['test-f1_score-mean'].max()\n",
    "    boost_rounds = np.argmax(cv_results['test-f1_score-mean'])    \n",
    "    print(\"\\tF1 Score {} reached after {} rounds\".format(mean_f1, boost_rounds))\n",
    "    if mean_f1 > max_f1:\n",
    "        max_f1 = mean_f1\n",
    "        best_params = eta \n",
    "print(\"Best params: {}, F1 Score: {}\".format(best_params, max_f1))"
   ]
  },
  {
   "cell_type": "code",
   "execution_count": 23,
   "metadata": {},
   "outputs": [],
   "source": [
    "# Update eta.\n",
    "PARAMETERS['eta'] = best_params"
   ]
  },
  {
   "cell_type": "markdown",
   "metadata": {},
   "source": [
    "Let’s have a look at the final list of tuned parameters."
   ]
  },
  {
   "cell_type": "code",
   "execution_count": 24,
   "metadata": {},
   "outputs": [
    {
     "data": {
      "text/plain": [
       "{'objective': 'binary:logistic',\n",
       " 'max_depth': 5,\n",
       " 'min_child_weight': 1,\n",
       " 'eta': 0.3,\n",
       " 'subsample': 0.9,\n",
       " 'colsample_bytree': 0.6,\n",
       " 'verbosity': 0}"
      ]
     },
     "execution_count": 24,
     "metadata": {},
     "output_type": "execute_result"
    }
   ],
   "source": [
    "PARAMETERS"
   ]
  },
  {
   "cell_type": "markdown",
   "metadata": {},
   "source": [
    "Finally I can now use these tuned parameters in the xgboost model. I will set a very high num_boost_round and rely on early stopping to stop the model if its performance doesn’t improve in 20 rounds."
   ]
  },
  {
   "cell_type": "code",
   "execution_count": 25,
   "metadata": {},
   "outputs": [
    {
     "name": "stdout",
     "output_type": "stream",
     "text": [
      "[0]\ttrain-logloss:0.54971\ttrain-f1_score:0.43028\tval-logloss:0.55204\tval-f1_score:0.41267\n",
      "[1]\ttrain-logloss:0.49928\ttrain-f1_score:0.78267\tval-logloss:0.50237\tval-f1_score:0.78020\n",
      "[2]\ttrain-logloss:0.42672\ttrain-f1_score:0.83831\tval-logloss:0.43205\tval-f1_score:0.83177\n",
      "[3]\ttrain-logloss:0.39814\ttrain-f1_score:0.84939\tval-logloss:0.40475\tval-f1_score:0.84214\n",
      "[4]\ttrain-logloss:0.37660\ttrain-f1_score:0.86036\tval-logloss:0.38405\tval-f1_score:0.85108\n",
      "[5]\ttrain-logloss:0.33842\ttrain-f1_score:0.88765\tval-logloss:0.34758\tval-f1_score:0.87982\n",
      "[6]\ttrain-logloss:0.31394\ttrain-f1_score:0.90161\tval-logloss:0.32429\tval-f1_score:0.89382\n",
      "[7]\ttrain-logloss:0.30179\ttrain-f1_score:0.90322\tval-logloss:0.31340\tval-f1_score:0.89403\n",
      "[8]\ttrain-logloss:0.28606\ttrain-f1_score:0.90856\tval-logloss:0.29843\tval-f1_score:0.89942\n",
      "[9]\ttrain-logloss:0.27280\ttrain-f1_score:0.91031\tval-logloss:0.28593\tval-f1_score:0.90194\n",
      "[10]\ttrain-logloss:0.26180\ttrain-f1_score:0.91527\tval-logloss:0.27670\tval-f1_score:0.90694\n",
      "[11]\ttrain-logloss:0.25421\ttrain-f1_score:0.91960\tval-logloss:0.26998\tval-f1_score:0.90980\n",
      "[12]\ttrain-logloss:0.24631\ttrain-f1_score:0.92199\tval-logloss:0.26315\tval-f1_score:0.91195\n",
      "[13]\ttrain-logloss:0.23880\ttrain-f1_score:0.92368\tval-logloss:0.25663\tval-f1_score:0.91205\n",
      "[14]\ttrain-logloss:0.23150\ttrain-f1_score:0.92570\tval-logloss:0.25024\tval-f1_score:0.91307\n",
      "[15]\ttrain-logloss:0.22654\ttrain-f1_score:0.92683\tval-logloss:0.24623\tval-f1_score:0.91394\n",
      "[16]\ttrain-logloss:0.22103\ttrain-f1_score:0.92953\tval-logloss:0.24134\tval-f1_score:0.91820\n",
      "[17]\ttrain-logloss:0.21659\ttrain-f1_score:0.93084\tval-logloss:0.23736\tval-f1_score:0.91850\n",
      "[18]\ttrain-logloss:0.21279\ttrain-f1_score:0.93207\tval-logloss:0.23435\tval-f1_score:0.91949\n",
      "[19]\ttrain-logloss:0.20895\ttrain-f1_score:0.93272\tval-logloss:0.23100\tval-f1_score:0.92081\n",
      "[20]\ttrain-logloss:0.20533\ttrain-f1_score:0.93402\tval-logloss:0.22764\tval-f1_score:0.92189\n",
      "[21]\ttrain-logloss:0.20028\ttrain-f1_score:0.93615\tval-logloss:0.22389\tval-f1_score:0.92323\n",
      "[22]\ttrain-logloss:0.19683\ttrain-f1_score:0.93699\tval-logloss:0.22058\tval-f1_score:0.92537\n",
      "[23]\ttrain-logloss:0.19334\ttrain-f1_score:0.93847\tval-logloss:0.21719\tval-f1_score:0.92678\n",
      "[24]\ttrain-logloss:0.19055\ttrain-f1_score:0.93971\tval-logloss:0.21459\tval-f1_score:0.92810\n",
      "[25]\ttrain-logloss:0.18819\ttrain-f1_score:0.94069\tval-logloss:0.21239\tval-f1_score:0.92787\n",
      "[26]\ttrain-logloss:0.18566\ttrain-f1_score:0.94200\tval-logloss:0.21027\tval-f1_score:0.92893\n",
      "[27]\ttrain-logloss:0.18341\ttrain-f1_score:0.94328\tval-logloss:0.20819\tval-f1_score:0.92981\n",
      "[28]\ttrain-logloss:0.18094\ttrain-f1_score:0.94409\tval-logloss:0.20598\tval-f1_score:0.93027\n",
      "[29]\ttrain-logloss:0.17865\ttrain-f1_score:0.94557\tval-logloss:0.20428\tval-f1_score:0.93123\n",
      "[30]\ttrain-logloss:0.17645\ttrain-f1_score:0.94648\tval-logloss:0.20231\tval-f1_score:0.93124\n",
      "[31]\ttrain-logloss:0.17379\ttrain-f1_score:0.94676\tval-logloss:0.20050\tval-f1_score:0.93166\n",
      "[32]\ttrain-logloss:0.17206\ttrain-f1_score:0.94750\tval-logloss:0.19885\tval-f1_score:0.93236\n",
      "[33]\ttrain-logloss:0.16983\ttrain-f1_score:0.94784\tval-logloss:0.19672\tval-f1_score:0.93348\n",
      "[34]\ttrain-logloss:0.16824\ttrain-f1_score:0.94878\tval-logloss:0.19512\tval-f1_score:0.93398\n",
      "[35]\ttrain-logloss:0.16670\ttrain-f1_score:0.94895\tval-logloss:0.19408\tval-f1_score:0.93331\n",
      "[36]\ttrain-logloss:0.16463\ttrain-f1_score:0.94981\tval-logloss:0.19235\tval-f1_score:0.93335\n",
      "[37]\ttrain-logloss:0.16206\ttrain-f1_score:0.95101\tval-logloss:0.19015\tval-f1_score:0.93478\n",
      "[38]\ttrain-logloss:0.16001\ttrain-f1_score:0.95146\tval-logloss:0.18842\tval-f1_score:0.93546\n",
      "[39]\ttrain-logloss:0.15832\ttrain-f1_score:0.95180\tval-logloss:0.18689\tval-f1_score:0.93641\n",
      "[40]\ttrain-logloss:0.15684\ttrain-f1_score:0.95256\tval-logloss:0.18560\tval-f1_score:0.93728\n",
      "[41]\ttrain-logloss:0.15533\ttrain-f1_score:0.95295\tval-logloss:0.18459\tval-f1_score:0.93776\n",
      "[42]\ttrain-logloss:0.15353\ttrain-f1_score:0.95392\tval-logloss:0.18285\tval-f1_score:0.93846\n",
      "[43]\ttrain-logloss:0.15181\ttrain-f1_score:0.95436\tval-logloss:0.18186\tval-f1_score:0.93836\n",
      "[44]\ttrain-logloss:0.15028\ttrain-f1_score:0.95527\tval-logloss:0.18074\tval-f1_score:0.93879\n",
      "[45]\ttrain-logloss:0.14862\ttrain-f1_score:0.95565\tval-logloss:0.17945\tval-f1_score:0.93861\n",
      "[46]\ttrain-logloss:0.14760\ttrain-f1_score:0.95561\tval-logloss:0.17868\tval-f1_score:0.93893\n",
      "[47]\ttrain-logloss:0.14661\ttrain-f1_score:0.95636\tval-logloss:0.17775\tval-f1_score:0.93899\n",
      "[48]\ttrain-logloss:0.14530\ttrain-f1_score:0.95662\tval-logloss:0.17673\tval-f1_score:0.93883\n",
      "[49]\ttrain-logloss:0.14403\ttrain-f1_score:0.95697\tval-logloss:0.17588\tval-f1_score:0.93943\n",
      "[50]\ttrain-logloss:0.14247\ttrain-f1_score:0.95710\tval-logloss:0.17492\tval-f1_score:0.93981\n",
      "[51]\ttrain-logloss:0.14135\ttrain-f1_score:0.95750\tval-logloss:0.17401\tval-f1_score:0.94002\n",
      "[52]\ttrain-logloss:0.13984\ttrain-f1_score:0.95857\tval-logloss:0.17322\tval-f1_score:0.94031\n",
      "[53]\ttrain-logloss:0.13866\ttrain-f1_score:0.95884\tval-logloss:0.17217\tval-f1_score:0.94084\n",
      "[54]\ttrain-logloss:0.13748\ttrain-f1_score:0.95882\tval-logloss:0.17142\tval-f1_score:0.94109\n",
      "[55]\ttrain-logloss:0.13615\ttrain-f1_score:0.95936\tval-logloss:0.17051\tval-f1_score:0.94100\n",
      "[56]\ttrain-logloss:0.13492\ttrain-f1_score:0.96006\tval-logloss:0.16957\tval-f1_score:0.94182\n",
      "[57]\ttrain-logloss:0.13332\ttrain-f1_score:0.96124\tval-logloss:0.16841\tval-f1_score:0.94287\n",
      "[58]\ttrain-logloss:0.13155\ttrain-f1_score:0.96177\tval-logloss:0.16710\tval-f1_score:0.94387\n",
      "[59]\ttrain-logloss:0.13069\ttrain-f1_score:0.96242\tval-logloss:0.16632\tval-f1_score:0.94444\n",
      "[60]\ttrain-logloss:0.12965\ttrain-f1_score:0.96274\tval-logloss:0.16534\tval-f1_score:0.94377\n",
      "[61]\ttrain-logloss:0.12870\ttrain-f1_score:0.96303\tval-logloss:0.16469\tval-f1_score:0.94413\n",
      "[62]\ttrain-logloss:0.12755\ttrain-f1_score:0.96298\tval-logloss:0.16396\tval-f1_score:0.94431\n",
      "[63]\ttrain-logloss:0.12675\ttrain-f1_score:0.96323\tval-logloss:0.16343\tval-f1_score:0.94438\n",
      "[64]\ttrain-logloss:0.12590\ttrain-f1_score:0.96362\tval-logloss:0.16281\tval-f1_score:0.94448\n",
      "[65]\ttrain-logloss:0.12472\ttrain-f1_score:0.96422\tval-logloss:0.16218\tval-f1_score:0.94510\n",
      "[66]\ttrain-logloss:0.12387\ttrain-f1_score:0.96486\tval-logloss:0.16137\tval-f1_score:0.94546\n",
      "[67]\ttrain-logloss:0.12273\ttrain-f1_score:0.96581\tval-logloss:0.16082\tval-f1_score:0.94582\n",
      "[68]\ttrain-logloss:0.12177\ttrain-f1_score:0.96620\tval-logloss:0.16031\tval-f1_score:0.94552\n",
      "[69]\ttrain-logloss:0.12109\ttrain-f1_score:0.96633\tval-logloss:0.15980\tval-f1_score:0.94567\n",
      "[70]\ttrain-logloss:0.12036\ttrain-f1_score:0.96656\tval-logloss:0.15914\tval-f1_score:0.94558\n",
      "[71]\ttrain-logloss:0.11959\ttrain-f1_score:0.96704\tval-logloss:0.15842\tval-f1_score:0.94643\n",
      "[72]\ttrain-logloss:0.11883\ttrain-f1_score:0.96697\tval-logloss:0.15779\tval-f1_score:0.94692\n",
      "[73]\ttrain-logloss:0.11804\ttrain-f1_score:0.96725\tval-logloss:0.15711\tval-f1_score:0.94712\n",
      "[74]\ttrain-logloss:0.11707\ttrain-f1_score:0.96766\tval-logloss:0.15660\tval-f1_score:0.94762\n",
      "[75]\ttrain-logloss:0.11614\ttrain-f1_score:0.96803\tval-logloss:0.15586\tval-f1_score:0.94769\n",
      "[76]\ttrain-logloss:0.11500\ttrain-f1_score:0.96840\tval-logloss:0.15492\tval-f1_score:0.94764\n",
      "[77]\ttrain-logloss:0.11400\ttrain-f1_score:0.96873\tval-logloss:0.15436\tval-f1_score:0.94796\n",
      "[78]\ttrain-logloss:0.11330\ttrain-f1_score:0.96866\tval-logloss:0.15401\tval-f1_score:0.94738\n",
      "[79]\ttrain-logloss:0.11266\ttrain-f1_score:0.96891\tval-logloss:0.15370\tval-f1_score:0.94692\n",
      "[80]\ttrain-logloss:0.11197\ttrain-f1_score:0.96927\tval-logloss:0.15323\tval-f1_score:0.94738\n",
      "[81]\ttrain-logloss:0.11140\ttrain-f1_score:0.96949\tval-logloss:0.15287\tval-f1_score:0.94738\n",
      "[82]\ttrain-logloss:0.11075\ttrain-f1_score:0.96964\tval-logloss:0.15243\tval-f1_score:0.94732\n",
      "[83]\ttrain-logloss:0.10992\ttrain-f1_score:0.96989\tval-logloss:0.15202\tval-f1_score:0.94775\n",
      "[84]\ttrain-logloss:0.10854\ttrain-f1_score:0.97068\tval-logloss:0.15103\tval-f1_score:0.94852\n",
      "[85]\ttrain-logloss:0.10717\ttrain-f1_score:0.97079\tval-logloss:0.15026\tval-f1_score:0.94848\n",
      "[86]\ttrain-logloss:0.10633\ttrain-f1_score:0.97136\tval-logloss:0.14980\tval-f1_score:0.94869\n",
      "[87]\ttrain-logloss:0.10586\ttrain-f1_score:0.97146\tval-logloss:0.14936\tval-f1_score:0.94911\n",
      "[88]\ttrain-logloss:0.10527\ttrain-f1_score:0.97173\tval-logloss:0.14876\tval-f1_score:0.94968\n",
      "[89]\ttrain-logloss:0.10472\ttrain-f1_score:0.97220\tval-logloss:0.14847\tval-f1_score:0.94963\n",
      "[90]\ttrain-logloss:0.10420\ttrain-f1_score:0.97212\tval-logloss:0.14810\tval-f1_score:0.95005\n"
     ]
    },
    {
     "name": "stdout",
     "output_type": "stream",
     "text": [
      "[91]\ttrain-logloss:0.10362\ttrain-f1_score:0.97235\tval-logloss:0.14765\tval-f1_score:0.94975\n",
      "[92]\ttrain-logloss:0.10296\ttrain-f1_score:0.97256\tval-logloss:0.14725\tval-f1_score:0.94909\n",
      "[93]\ttrain-logloss:0.10255\ttrain-f1_score:0.97263\tval-logloss:0.14690\tval-f1_score:0.94925\n",
      "[94]\ttrain-logloss:0.10176\ttrain-f1_score:0.97300\tval-logloss:0.14646\tval-f1_score:0.94956\n",
      "[95]\ttrain-logloss:0.10099\ttrain-f1_score:0.97327\tval-logloss:0.14596\tval-f1_score:0.94947\n",
      "[96]\ttrain-logloss:0.10053\ttrain-f1_score:0.97334\tval-logloss:0.14539\tval-f1_score:0.94968\n",
      "[97]\ttrain-logloss:0.10004\ttrain-f1_score:0.97346\tval-logloss:0.14512\tval-f1_score:0.95012\n",
      "[98]\ttrain-logloss:0.09939\ttrain-f1_score:0.97389\tval-logloss:0.14480\tval-f1_score:0.95013\n",
      "[99]\ttrain-logloss:0.09884\ttrain-f1_score:0.97427\tval-logloss:0.14447\tval-f1_score:0.95034\n",
      "[100]\ttrain-logloss:0.09812\ttrain-f1_score:0.97433\tval-logloss:0.14422\tval-f1_score:0.95066\n",
      "[101]\ttrain-logloss:0.09762\ttrain-f1_score:0.97440\tval-logloss:0.14386\tval-f1_score:0.95097\n",
      "[102]\ttrain-logloss:0.09714\ttrain-f1_score:0.97481\tval-logloss:0.14347\tval-f1_score:0.95094\n",
      "[103]\ttrain-logloss:0.09654\ttrain-f1_score:0.97488\tval-logloss:0.14311\tval-f1_score:0.95103\n",
      "[104]\ttrain-logloss:0.09577\ttrain-f1_score:0.97533\tval-logloss:0.14247\tval-f1_score:0.95112\n",
      "[105]\ttrain-logloss:0.09519\ttrain-f1_score:0.97554\tval-logloss:0.14197\tval-f1_score:0.95110\n",
      "[106]\ttrain-logloss:0.09477\ttrain-f1_score:0.97581\tval-logloss:0.14171\tval-f1_score:0.95147\n",
      "[107]\ttrain-logloss:0.09407\ttrain-f1_score:0.97610\tval-logloss:0.14120\tval-f1_score:0.95181\n",
      "[108]\ttrain-logloss:0.09367\ttrain-f1_score:0.97624\tval-logloss:0.14088\tval-f1_score:0.95202\n",
      "[109]\ttrain-logloss:0.09316\ttrain-f1_score:0.97642\tval-logloss:0.14078\tval-f1_score:0.95131\n",
      "[110]\ttrain-logloss:0.09281\ttrain-f1_score:0.97647\tval-logloss:0.14050\tval-f1_score:0.95131\n",
      "[111]\ttrain-logloss:0.09234\ttrain-f1_score:0.97660\tval-logloss:0.14016\tval-f1_score:0.95164\n",
      "[112]\ttrain-logloss:0.09159\ttrain-f1_score:0.97692\tval-logloss:0.13968\tval-f1_score:0.95206\n",
      "[113]\ttrain-logloss:0.09127\ttrain-f1_score:0.97705\tval-logloss:0.13943\tval-f1_score:0.95222\n",
      "[114]\ttrain-logloss:0.09080\ttrain-f1_score:0.97707\tval-logloss:0.13929\tval-f1_score:0.95230\n",
      "[115]\ttrain-logloss:0.09029\ttrain-f1_score:0.97699\tval-logloss:0.13887\tval-f1_score:0.95249\n",
      "[116]\ttrain-logloss:0.08986\ttrain-f1_score:0.97721\tval-logloss:0.13860\tval-f1_score:0.95270\n",
      "[117]\ttrain-logloss:0.08933\ttrain-f1_score:0.97741\tval-logloss:0.13821\tval-f1_score:0.95293\n",
      "[118]\ttrain-logloss:0.08864\ttrain-f1_score:0.97768\tval-logloss:0.13780\tval-f1_score:0.95299\n",
      "[119]\ttrain-logloss:0.08810\ttrain-f1_score:0.97782\tval-logloss:0.13753\tval-f1_score:0.95328\n",
      "[120]\ttrain-logloss:0.08766\ttrain-f1_score:0.97814\tval-logloss:0.13751\tval-f1_score:0.95322\n",
      "[121]\ttrain-logloss:0.08709\ttrain-f1_score:0.97831\tval-logloss:0.13734\tval-f1_score:0.95314\n",
      "[122]\ttrain-logloss:0.08664\ttrain-f1_score:0.97833\tval-logloss:0.13690\tval-f1_score:0.95322\n",
      "[123]\ttrain-logloss:0.08627\ttrain-f1_score:0.97851\tval-logloss:0.13668\tval-f1_score:0.95329\n",
      "[124]\ttrain-logloss:0.08559\ttrain-f1_score:0.97885\tval-logloss:0.13625\tval-f1_score:0.95402\n",
      "[125]\ttrain-logloss:0.08519\ttrain-f1_score:0.97905\tval-logloss:0.13589\tval-f1_score:0.95424\n",
      "[126]\ttrain-logloss:0.08473\ttrain-f1_score:0.97927\tval-logloss:0.13570\tval-f1_score:0.95438\n",
      "[127]\ttrain-logloss:0.08438\ttrain-f1_score:0.97927\tval-logloss:0.13534\tval-f1_score:0.95381\n",
      "[128]\ttrain-logloss:0.08382\ttrain-f1_score:0.97962\tval-logloss:0.13523\tval-f1_score:0.95410\n",
      "[129]\ttrain-logloss:0.08325\ttrain-f1_score:0.97971\tval-logloss:0.13497\tval-f1_score:0.95425\n",
      "[130]\ttrain-logloss:0.08278\ttrain-f1_score:0.97992\tval-logloss:0.13470\tval-f1_score:0.95434\n",
      "[131]\ttrain-logloss:0.08249\ttrain-f1_score:0.98005\tval-logloss:0.13448\tval-f1_score:0.95417\n",
      "[132]\ttrain-logloss:0.08214\ttrain-f1_score:0.98032\tval-logloss:0.13412\tval-f1_score:0.95417\n",
      "[133]\ttrain-logloss:0.08172\ttrain-f1_score:0.98044\tval-logloss:0.13392\tval-f1_score:0.95404\n",
      "[134]\ttrain-logloss:0.08139\ttrain-f1_score:0.98040\tval-logloss:0.13365\tval-f1_score:0.95417\n",
      "[135]\ttrain-logloss:0.08106\ttrain-f1_score:0.98053\tval-logloss:0.13337\tval-f1_score:0.95454\n",
      "[136]\ttrain-logloss:0.08065\ttrain-f1_score:0.98069\tval-logloss:0.13312\tval-f1_score:0.95448\n",
      "[137]\ttrain-logloss:0.08021\ttrain-f1_score:0.98070\tval-logloss:0.13303\tval-f1_score:0.95440\n",
      "[138]\ttrain-logloss:0.07989\ttrain-f1_score:0.98096\tval-logloss:0.13289\tval-f1_score:0.95425\n",
      "[139]\ttrain-logloss:0.07960\ttrain-f1_score:0.98098\tval-logloss:0.13289\tval-f1_score:0.95433\n",
      "[140]\ttrain-logloss:0.07934\ttrain-f1_score:0.98111\tval-logloss:0.13263\tval-f1_score:0.95447\n",
      "[141]\ttrain-logloss:0.07902\ttrain-f1_score:0.98111\tval-logloss:0.13249\tval-f1_score:0.95432\n",
      "[142]\ttrain-logloss:0.07852\ttrain-f1_score:0.98104\tval-logloss:0.13234\tval-f1_score:0.95440\n",
      "[143]\ttrain-logloss:0.07822\ttrain-f1_score:0.98116\tval-logloss:0.13210\tval-f1_score:0.95432\n",
      "[144]\ttrain-logloss:0.07791\ttrain-f1_score:0.98133\tval-logloss:0.13186\tval-f1_score:0.95455\n",
      "[145]\ttrain-logloss:0.07714\ttrain-f1_score:0.98134\tval-logloss:0.13140\tval-f1_score:0.95448\n",
      "[146]\ttrain-logloss:0.07662\ttrain-f1_score:0.98150\tval-logloss:0.13094\tval-f1_score:0.95462\n",
      "[147]\ttrain-logloss:0.07630\ttrain-f1_score:0.98157\tval-logloss:0.13085\tval-f1_score:0.95477\n",
      "[148]\ttrain-logloss:0.07583\ttrain-f1_score:0.98172\tval-logloss:0.13071\tval-f1_score:0.95506\n",
      "[149]\ttrain-logloss:0.07549\ttrain-f1_score:0.98184\tval-logloss:0.13060\tval-f1_score:0.95507\n",
      "[150]\ttrain-logloss:0.07498\ttrain-f1_score:0.98206\tval-logloss:0.13039\tval-f1_score:0.95493\n",
      "[151]\ttrain-logloss:0.07411\ttrain-f1_score:0.98217\tval-logloss:0.12996\tval-f1_score:0.95523\n",
      "[152]\ttrain-logloss:0.07373\ttrain-f1_score:0.98240\tval-logloss:0.12983\tval-f1_score:0.95530\n",
      "[153]\ttrain-logloss:0.07320\ttrain-f1_score:0.98271\tval-logloss:0.12961\tval-f1_score:0.95582\n",
      "[154]\ttrain-logloss:0.07291\ttrain-f1_score:0.98294\tval-logloss:0.12943\tval-f1_score:0.95610\n",
      "[155]\ttrain-logloss:0.07259\ttrain-f1_score:0.98321\tval-logloss:0.12907\tval-f1_score:0.95668\n",
      "[156]\ttrain-logloss:0.07217\ttrain-f1_score:0.98330\tval-logloss:0.12886\tval-f1_score:0.95661\n",
      "[157]\ttrain-logloss:0.07188\ttrain-f1_score:0.98350\tval-logloss:0.12869\tval-f1_score:0.95675\n",
      "[158]\ttrain-logloss:0.07162\ttrain-f1_score:0.98361\tval-logloss:0.12841\tval-f1_score:0.95654\n",
      "[159]\ttrain-logloss:0.07138\ttrain-f1_score:0.98379\tval-logloss:0.12825\tval-f1_score:0.95675\n",
      "[160]\ttrain-logloss:0.07103\ttrain-f1_score:0.98374\tval-logloss:0.12809\tval-f1_score:0.95660\n",
      "[161]\ttrain-logloss:0.07067\ttrain-f1_score:0.98384\tval-logloss:0.12781\tval-f1_score:0.95681\n",
      "[162]\ttrain-logloss:0.07041\ttrain-f1_score:0.98404\tval-logloss:0.12756\tval-f1_score:0.95688\n",
      "[163]\ttrain-logloss:0.07014\ttrain-f1_score:0.98404\tval-logloss:0.12740\tval-f1_score:0.95688\n",
      "[164]\ttrain-logloss:0.06968\ttrain-f1_score:0.98415\tval-logloss:0.12715\tval-f1_score:0.95687\n",
      "[165]\ttrain-logloss:0.06940\ttrain-f1_score:0.98415\tval-logloss:0.12720\tval-f1_score:0.95674\n",
      "[166]\ttrain-logloss:0.06914\ttrain-f1_score:0.98426\tval-logloss:0.12711\tval-f1_score:0.95653\n",
      "[167]\ttrain-logloss:0.06870\ttrain-f1_score:0.98437\tval-logloss:0.12702\tval-f1_score:0.95695\n",
      "[168]\ttrain-logloss:0.06846\ttrain-f1_score:0.98442\tval-logloss:0.12688\tval-f1_score:0.95681\n",
      "[169]\ttrain-logloss:0.06815\ttrain-f1_score:0.98449\tval-logloss:0.12676\tval-f1_score:0.95665\n",
      "[170]\ttrain-logloss:0.06796\ttrain-f1_score:0.98460\tval-logloss:0.12660\tval-f1_score:0.95688\n",
      "[171]\ttrain-logloss:0.06760\ttrain-f1_score:0.98476\tval-logloss:0.12635\tval-f1_score:0.95645\n",
      "[172]\ttrain-logloss:0.06720\ttrain-f1_score:0.98494\tval-logloss:0.12613\tval-f1_score:0.95652\n",
      "[173]\ttrain-logloss:0.06686\ttrain-f1_score:0.98516\tval-logloss:0.12591\tval-f1_score:0.95637\n",
      "[174]\ttrain-logloss:0.06658\ttrain-f1_score:0.98532\tval-logloss:0.12575\tval-f1_score:0.95673\n",
      "[175]\ttrain-logloss:0.06625\ttrain-f1_score:0.98537\tval-logloss:0.12547\tval-f1_score:0.95666\n",
      "[176]\ttrain-logloss:0.06592\ttrain-f1_score:0.98537\tval-logloss:0.12519\tval-f1_score:0.95695\n",
      "[177]\ttrain-logloss:0.06565\ttrain-f1_score:0.98562\tval-logloss:0.12503\tval-f1_score:0.95695\n",
      "[178]\ttrain-logloss:0.06533\ttrain-f1_score:0.98567\tval-logloss:0.12498\tval-f1_score:0.95701\n",
      "[179]\ttrain-logloss:0.06470\ttrain-f1_score:0.98580\tval-logloss:0.12435\tval-f1_score:0.95731\n",
      "[180]\ttrain-logloss:0.06449\ttrain-f1_score:0.98594\tval-logloss:0.12409\tval-f1_score:0.95745\n"
     ]
    },
    {
     "name": "stdout",
     "output_type": "stream",
     "text": [
      "[181]\ttrain-logloss:0.06430\ttrain-f1_score:0.98594\tval-logloss:0.12393\tval-f1_score:0.95738\n",
      "[182]\ttrain-logloss:0.06406\ttrain-f1_score:0.98603\tval-logloss:0.12380\tval-f1_score:0.95752\n",
      "[183]\ttrain-logloss:0.06378\ttrain-f1_score:0.98621\tval-logloss:0.12371\tval-f1_score:0.95782\n",
      "[184]\ttrain-logloss:0.06326\ttrain-f1_score:0.98602\tval-logloss:0.12342\tval-f1_score:0.95775\n",
      "[185]\ttrain-logloss:0.06307\ttrain-f1_score:0.98607\tval-logloss:0.12324\tval-f1_score:0.95781\n",
      "[186]\ttrain-logloss:0.06285\ttrain-f1_score:0.98614\tval-logloss:0.12303\tval-f1_score:0.95796\n",
      "[187]\ttrain-logloss:0.06246\ttrain-f1_score:0.98616\tval-logloss:0.12287\tval-f1_score:0.95803\n",
      "[188]\ttrain-logloss:0.06225\ttrain-f1_score:0.98645\tval-logloss:0.12278\tval-f1_score:0.95824\n",
      "[189]\ttrain-logloss:0.06200\ttrain-f1_score:0.98648\tval-logloss:0.12268\tval-f1_score:0.95818\n",
      "[190]\ttrain-logloss:0.06174\ttrain-f1_score:0.98661\tval-logloss:0.12263\tval-f1_score:0.95818\n",
      "[191]\ttrain-logloss:0.06137\ttrain-f1_score:0.98675\tval-logloss:0.12254\tval-f1_score:0.95825\n",
      "[192]\ttrain-logloss:0.06109\ttrain-f1_score:0.98692\tval-logloss:0.12223\tval-f1_score:0.95846\n",
      "[193]\ttrain-logloss:0.06078\ttrain-f1_score:0.98704\tval-logloss:0.12217\tval-f1_score:0.95838\n",
      "[194]\ttrain-logloss:0.06059\ttrain-f1_score:0.98710\tval-logloss:0.12209\tval-f1_score:0.95824\n",
      "[195]\ttrain-logloss:0.06032\ttrain-f1_score:0.98719\tval-logloss:0.12197\tval-f1_score:0.95839\n",
      "[196]\ttrain-logloss:0.06001\ttrain-f1_score:0.98737\tval-logloss:0.12197\tval-f1_score:0.95840\n",
      "[197]\ttrain-logloss:0.05982\ttrain-f1_score:0.98738\tval-logloss:0.12193\tval-f1_score:0.95832\n",
      "[198]\ttrain-logloss:0.05957\ttrain-f1_score:0.98755\tval-logloss:0.12188\tval-f1_score:0.95847\n",
      "[199]\ttrain-logloss:0.05924\ttrain-f1_score:0.98769\tval-logloss:0.12187\tval-f1_score:0.95839\n",
      "[200]\ttrain-logloss:0.05903\ttrain-f1_score:0.98780\tval-logloss:0.12176\tval-f1_score:0.95839\n",
      "[201]\ttrain-logloss:0.05869\ttrain-f1_score:0.98786\tval-logloss:0.12182\tval-f1_score:0.95823\n",
      "[202]\ttrain-logloss:0.05843\ttrain-f1_score:0.98791\tval-logloss:0.12183\tval-f1_score:0.95795\n",
      "[203]\ttrain-logloss:0.05806\ttrain-f1_score:0.98819\tval-logloss:0.12169\tval-f1_score:0.95833\n",
      "[204]\ttrain-logloss:0.05790\ttrain-f1_score:0.98819\tval-logloss:0.12157\tval-f1_score:0.95826\n",
      "[205]\ttrain-logloss:0.05756\ttrain-f1_score:0.98808\tval-logloss:0.12131\tval-f1_score:0.95854\n",
      "[206]\ttrain-logloss:0.05732\ttrain-f1_score:0.98823\tval-logloss:0.12113\tval-f1_score:0.95847\n",
      "[207]\ttrain-logloss:0.05710\ttrain-f1_score:0.98819\tval-logloss:0.12108\tval-f1_score:0.95797\n",
      "[208]\ttrain-logloss:0.05690\ttrain-f1_score:0.98830\tval-logloss:0.12090\tval-f1_score:0.95826\n",
      "[209]\ttrain-logloss:0.05659\ttrain-f1_score:0.98843\tval-logloss:0.12077\tval-f1_score:0.95811\n",
      "[210]\ttrain-logloss:0.05635\ttrain-f1_score:0.98855\tval-logloss:0.12062\tval-f1_score:0.95839\n",
      "[211]\ttrain-logloss:0.05609\ttrain-f1_score:0.98864\tval-logloss:0.12041\tval-f1_score:0.95827\n",
      "[212]\ttrain-logloss:0.05563\ttrain-f1_score:0.98880\tval-logloss:0.12008\tval-f1_score:0.95826\n",
      "[213]\ttrain-logloss:0.05530\ttrain-f1_score:0.98884\tval-logloss:0.11994\tval-f1_score:0.95869\n",
      "[214]\ttrain-logloss:0.05495\ttrain-f1_score:0.98898\tval-logloss:0.11979\tval-f1_score:0.95826\n",
      "[215]\ttrain-logloss:0.05462\ttrain-f1_score:0.98907\tval-logloss:0.11940\tval-f1_score:0.95847\n",
      "[216]\ttrain-logloss:0.05422\ttrain-f1_score:0.98927\tval-logloss:0.11940\tval-f1_score:0.95870\n",
      "[217]\ttrain-logloss:0.05395\ttrain-f1_score:0.98925\tval-logloss:0.11928\tval-f1_score:0.95920\n",
      "[218]\ttrain-logloss:0.05371\ttrain-f1_score:0.98929\tval-logloss:0.11916\tval-f1_score:0.95898\n",
      "[219]\ttrain-logloss:0.05349\ttrain-f1_score:0.98934\tval-logloss:0.11898\tval-f1_score:0.95919\n",
      "[220]\ttrain-logloss:0.05334\ttrain-f1_score:0.98932\tval-logloss:0.11878\tval-f1_score:0.95902\n",
      "[221]\ttrain-logloss:0.05305\ttrain-f1_score:0.98948\tval-logloss:0.11885\tval-f1_score:0.95866\n",
      "[222]\ttrain-logloss:0.05288\ttrain-f1_score:0.98948\tval-logloss:0.11880\tval-f1_score:0.95873\n",
      "[223]\ttrain-logloss:0.05256\ttrain-f1_score:0.98954\tval-logloss:0.11877\tval-f1_score:0.95895\n",
      "[224]\ttrain-logloss:0.05244\ttrain-f1_score:0.98957\tval-logloss:0.11868\tval-f1_score:0.95865\n",
      "[225]\ttrain-logloss:0.05230\ttrain-f1_score:0.98961\tval-logloss:0.11859\tval-f1_score:0.95880\n",
      "[226]\ttrain-logloss:0.05218\ttrain-f1_score:0.98966\tval-logloss:0.11844\tval-f1_score:0.95902\n",
      "[227]\ttrain-logloss:0.05202\ttrain-f1_score:0.98977\tval-logloss:0.11839\tval-f1_score:0.95938\n",
      "[228]\ttrain-logloss:0.05178\ttrain-f1_score:0.98986\tval-logloss:0.11822\tval-f1_score:0.95909\n",
      "[229]\ttrain-logloss:0.05158\ttrain-f1_score:0.98988\tval-logloss:0.11818\tval-f1_score:0.95873\n",
      "[230]\ttrain-logloss:0.05135\ttrain-f1_score:0.98986\tval-logloss:0.11815\tval-f1_score:0.95881\n",
      "[231]\ttrain-logloss:0.05117\ttrain-f1_score:0.98986\tval-logloss:0.11816\tval-f1_score:0.95850\n",
      "[232]\ttrain-logloss:0.05104\ttrain-f1_score:0.98988\tval-logloss:0.11806\tval-f1_score:0.95880\n",
      "[233]\ttrain-logloss:0.05082\ttrain-f1_score:0.98986\tval-logloss:0.11807\tval-f1_score:0.95910\n",
      "[234]\ttrain-logloss:0.05068\ttrain-f1_score:0.98988\tval-logloss:0.11802\tval-f1_score:0.95910\n",
      "[235]\ttrain-logloss:0.05055\ttrain-f1_score:0.98991\tval-logloss:0.11793\tval-f1_score:0.95910\n",
      "[236]\ttrain-logloss:0.05032\ttrain-f1_score:0.99006\tval-logloss:0.11780\tval-f1_score:0.95909\n",
      "[237]\ttrain-logloss:0.05013\ttrain-f1_score:0.99011\tval-logloss:0.11777\tval-f1_score:0.95939\n",
      "[238]\ttrain-logloss:0.04991\ttrain-f1_score:0.99027\tval-logloss:0.11769\tval-f1_score:0.95983\n",
      "[239]\ttrain-logloss:0.04966\ttrain-f1_score:0.99036\tval-logloss:0.11772\tval-f1_score:0.95925\n",
      "[240]\ttrain-logloss:0.04950\ttrain-f1_score:0.99040\tval-logloss:0.11744\tval-f1_score:0.95940\n",
      "[241]\ttrain-logloss:0.04936\ttrain-f1_score:0.99047\tval-logloss:0.11737\tval-f1_score:0.95927\n",
      "[242]\ttrain-logloss:0.04914\ttrain-f1_score:0.99058\tval-logloss:0.11716\tval-f1_score:0.95918\n",
      "[243]\ttrain-logloss:0.04899\ttrain-f1_score:0.99063\tval-logloss:0.11704\tval-f1_score:0.95940\n",
      "[244]\ttrain-logloss:0.04875\ttrain-f1_score:0.99070\tval-logloss:0.11677\tval-f1_score:0.95990\n",
      "[245]\ttrain-logloss:0.04855\ttrain-f1_score:0.99072\tval-logloss:0.11674\tval-f1_score:0.96004\n",
      "[246]\ttrain-logloss:0.04841\ttrain-f1_score:0.99076\tval-logloss:0.11666\tval-f1_score:0.95997\n",
      "[247]\ttrain-logloss:0.04805\ttrain-f1_score:0.99090\tval-logloss:0.11654\tval-f1_score:0.95997\n",
      "[248]\ttrain-logloss:0.04750\ttrain-f1_score:0.99096\tval-logloss:0.11638\tval-f1_score:0.95996\n",
      "[249]\ttrain-logloss:0.04732\ttrain-f1_score:0.99099\tval-logloss:0.11617\tval-f1_score:0.96010\n",
      "[250]\ttrain-logloss:0.04699\ttrain-f1_score:0.99112\tval-logloss:0.11598\tval-f1_score:0.96034\n",
      "[251]\ttrain-logloss:0.04688\ttrain-f1_score:0.99114\tval-logloss:0.11584\tval-f1_score:0.96041\n",
      "[252]\ttrain-logloss:0.04674\ttrain-f1_score:0.99119\tval-logloss:0.11582\tval-f1_score:0.96034\n",
      "[253]\ttrain-logloss:0.04655\ttrain-f1_score:0.99137\tval-logloss:0.11573\tval-f1_score:0.96041\n",
      "[254]\ttrain-logloss:0.04620\ttrain-f1_score:0.99157\tval-logloss:0.11581\tval-f1_score:0.96033\n",
      "[255]\ttrain-logloss:0.04607\ttrain-f1_score:0.99152\tval-logloss:0.11568\tval-f1_score:0.96032\n",
      "[256]\ttrain-logloss:0.04584\ttrain-f1_score:0.99177\tval-logloss:0.11582\tval-f1_score:0.96031\n",
      "[257]\ttrain-logloss:0.04562\ttrain-f1_score:0.99177\tval-logloss:0.11583\tval-f1_score:0.96045\n",
      "[258]\ttrain-logloss:0.04544\ttrain-f1_score:0.99177\tval-logloss:0.11573\tval-f1_score:0.96038\n",
      "[259]\ttrain-logloss:0.04533\ttrain-f1_score:0.99180\tval-logloss:0.11565\tval-f1_score:0.96039\n",
      "[260]\ttrain-logloss:0.04519\ttrain-f1_score:0.99182\tval-logloss:0.11568\tval-f1_score:0.96060\n",
      "[261]\ttrain-logloss:0.04508\ttrain-f1_score:0.99184\tval-logloss:0.11543\tval-f1_score:0.96081\n",
      "[262]\ttrain-logloss:0.04485\ttrain-f1_score:0.99205\tval-logloss:0.11547\tval-f1_score:0.96089\n",
      "[263]\ttrain-logloss:0.04470\ttrain-f1_score:0.99223\tval-logloss:0.11537\tval-f1_score:0.96089\n",
      "[264]\ttrain-logloss:0.04450\ttrain-f1_score:0.99230\tval-logloss:0.11536\tval-f1_score:0.96062\n",
      "[265]\ttrain-logloss:0.04440\ttrain-f1_score:0.99241\tval-logloss:0.11533\tval-f1_score:0.96054\n",
      "[266]\ttrain-logloss:0.04420\ttrain-f1_score:0.99239\tval-logloss:0.11524\tval-f1_score:0.96054\n",
      "[267]\ttrain-logloss:0.04405\ttrain-f1_score:0.99248\tval-logloss:0.11505\tval-f1_score:0.96054\n",
      "[268]\ttrain-logloss:0.04389\ttrain-f1_score:0.99252\tval-logloss:0.11502\tval-f1_score:0.96039\n",
      "[269]\ttrain-logloss:0.04372\ttrain-f1_score:0.99262\tval-logloss:0.11483\tval-f1_score:0.96076\n",
      "[270]\ttrain-logloss:0.04353\ttrain-f1_score:0.99268\tval-logloss:0.11463\tval-f1_score:0.96090\n"
     ]
    },
    {
     "name": "stdout",
     "output_type": "stream",
     "text": [
      "[271]\ttrain-logloss:0.04326\ttrain-f1_score:0.99284\tval-logloss:0.11447\tval-f1_score:0.96083\n",
      "[272]\ttrain-logloss:0.04309\ttrain-f1_score:0.99284\tval-logloss:0.11448\tval-f1_score:0.96068\n",
      "[273]\ttrain-logloss:0.04290\ttrain-f1_score:0.99291\tval-logloss:0.11445\tval-f1_score:0.96053\n",
      "[274]\ttrain-logloss:0.04265\ttrain-f1_score:0.99286\tval-logloss:0.11431\tval-f1_score:0.96075\n",
      "[275]\ttrain-logloss:0.04244\ttrain-f1_score:0.99298\tval-logloss:0.11422\tval-f1_score:0.96105\n",
      "[276]\ttrain-logloss:0.04232\ttrain-f1_score:0.99304\tval-logloss:0.11421\tval-f1_score:0.96135\n",
      "[277]\ttrain-logloss:0.04216\ttrain-f1_score:0.99304\tval-logloss:0.11401\tval-f1_score:0.96150\n",
      "[278]\ttrain-logloss:0.04205\ttrain-f1_score:0.99304\tval-logloss:0.11394\tval-f1_score:0.96158\n",
      "[279]\ttrain-logloss:0.04186\ttrain-f1_score:0.99311\tval-logloss:0.11389\tval-f1_score:0.96157\n",
      "[280]\ttrain-logloss:0.04166\ttrain-f1_score:0.99313\tval-logloss:0.11362\tval-f1_score:0.96193\n",
      "[281]\ttrain-logloss:0.04140\ttrain-f1_score:0.99324\tval-logloss:0.11334\tval-f1_score:0.96223\n",
      "[282]\ttrain-logloss:0.04124\ttrain-f1_score:0.99331\tval-logloss:0.11327\tval-f1_score:0.96230\n",
      "[283]\ttrain-logloss:0.04109\ttrain-f1_score:0.99347\tval-logloss:0.11318\tval-f1_score:0.96259\n",
      "[284]\ttrain-logloss:0.04065\ttrain-f1_score:0.99356\tval-logloss:0.11270\tval-f1_score:0.96229\n",
      "[285]\ttrain-logloss:0.04052\ttrain-f1_score:0.99356\tval-logloss:0.11267\tval-f1_score:0.96222\n",
      "[286]\ttrain-logloss:0.04041\ttrain-f1_score:0.99363\tval-logloss:0.11262\tval-f1_score:0.96236\n",
      "[287]\ttrain-logloss:0.04031\ttrain-f1_score:0.99352\tval-logloss:0.11262\tval-f1_score:0.96216\n",
      "[288]\ttrain-logloss:0.04018\ttrain-f1_score:0.99350\tval-logloss:0.11237\tval-f1_score:0.96215\n",
      "[289]\ttrain-logloss:0.03991\ttrain-f1_score:0.99374\tval-logloss:0.11236\tval-f1_score:0.96266\n",
      "[290]\ttrain-logloss:0.03967\ttrain-f1_score:0.99386\tval-logloss:0.11248\tval-f1_score:0.96230\n",
      "[291]\ttrain-logloss:0.03944\ttrain-f1_score:0.99390\tval-logloss:0.11239\tval-f1_score:0.96216\n",
      "[292]\ttrain-logloss:0.03935\ttrain-f1_score:0.99393\tval-logloss:0.11225\tval-f1_score:0.96202\n",
      "[293]\ttrain-logloss:0.03919\ttrain-f1_score:0.99393\tval-logloss:0.11220\tval-f1_score:0.96193\n",
      "[294]\ttrain-logloss:0.03891\ttrain-f1_score:0.99402\tval-logloss:0.11212\tval-f1_score:0.96179\n",
      "[295]\ttrain-logloss:0.03879\ttrain-f1_score:0.99397\tval-logloss:0.11213\tval-f1_score:0.96179\n",
      "[296]\ttrain-logloss:0.03868\ttrain-f1_score:0.99399\tval-logloss:0.11207\tval-f1_score:0.96194\n",
      "[297]\ttrain-logloss:0.03845\ttrain-f1_score:0.99402\tval-logloss:0.11208\tval-f1_score:0.96178\n",
      "[298]\ttrain-logloss:0.03837\ttrain-f1_score:0.99406\tval-logloss:0.11199\tval-f1_score:0.96178\n",
      "[299]\ttrain-logloss:0.03810\ttrain-f1_score:0.99418\tval-logloss:0.11198\tval-f1_score:0.96198\n",
      "[300]\ttrain-logloss:0.03801\ttrain-f1_score:0.99418\tval-logloss:0.11195\tval-f1_score:0.96191\n",
      "[301]\ttrain-logloss:0.03783\ttrain-f1_score:0.99429\tval-logloss:0.11195\tval-f1_score:0.96192\n",
      "[302]\ttrain-logloss:0.03767\ttrain-f1_score:0.99435\tval-logloss:0.11188\tval-f1_score:0.96200\n",
      "[303]\ttrain-logloss:0.03754\ttrain-f1_score:0.99436\tval-logloss:0.11179\tval-f1_score:0.96206\n",
      "[304]\ttrain-logloss:0.03743\ttrain-f1_score:0.99438\tval-logloss:0.11163\tval-f1_score:0.96228\n",
      "[305]\ttrain-logloss:0.03727\ttrain-f1_score:0.99438\tval-logloss:0.11160\tval-f1_score:0.96205\n",
      "[306]\ttrain-logloss:0.03708\ttrain-f1_score:0.99445\tval-logloss:0.11161\tval-f1_score:0.96221\n",
      "[307]\ttrain-logloss:0.03688\ttrain-f1_score:0.99451\tval-logloss:0.11162\tval-f1_score:0.96256\n",
      "[308]\ttrain-logloss:0.03681\ttrain-f1_score:0.99449\tval-logloss:0.11153\tval-f1_score:0.96256\n",
      "[309]\ttrain-logloss:0.03673\ttrain-f1_score:0.99453\tval-logloss:0.11152\tval-f1_score:0.96271\n",
      "[310]\ttrain-logloss:0.03658\ttrain-f1_score:0.99451\tval-logloss:0.11150\tval-f1_score:0.96291\n",
      "[311]\ttrain-logloss:0.03646\ttrain-f1_score:0.99462\tval-logloss:0.11140\tval-f1_score:0.96306\n",
      "[312]\ttrain-logloss:0.03629\ttrain-f1_score:0.99460\tval-logloss:0.11134\tval-f1_score:0.96286\n",
      "[313]\ttrain-logloss:0.03617\ttrain-f1_score:0.99465\tval-logloss:0.11132\tval-f1_score:0.96264\n",
      "[314]\ttrain-logloss:0.03608\ttrain-f1_score:0.99465\tval-logloss:0.11127\tval-f1_score:0.96271\n",
      "[315]\ttrain-logloss:0.03599\ttrain-f1_score:0.99471\tval-logloss:0.11138\tval-f1_score:0.96264\n",
      "[316]\ttrain-logloss:0.03587\ttrain-f1_score:0.99476\tval-logloss:0.11129\tval-f1_score:0.96251\n",
      "[317]\ttrain-logloss:0.03572\ttrain-f1_score:0.99479\tval-logloss:0.11125\tval-f1_score:0.96251\n",
      "[318]\ttrain-logloss:0.03561\ttrain-f1_score:0.99479\tval-logloss:0.11121\tval-f1_score:0.96251\n",
      "[319]\ttrain-logloss:0.03546\ttrain-f1_score:0.99487\tval-logloss:0.11097\tval-f1_score:0.96257\n",
      "[320]\ttrain-logloss:0.03532\ttrain-f1_score:0.99492\tval-logloss:0.11096\tval-f1_score:0.96244\n",
      "[321]\ttrain-logloss:0.03516\ttrain-f1_score:0.99494\tval-logloss:0.11096\tval-f1_score:0.96222\n",
      "[322]\ttrain-logloss:0.03504\ttrain-f1_score:0.99494\tval-logloss:0.11105\tval-f1_score:0.96208\n",
      "[323]\ttrain-logloss:0.03496\ttrain-f1_score:0.99496\tval-logloss:0.11100\tval-f1_score:0.96243\n",
      "[324]\ttrain-logloss:0.03481\ttrain-f1_score:0.99506\tval-logloss:0.11096\tval-f1_score:0.96229\n",
      "[325]\ttrain-logloss:0.03466\ttrain-f1_score:0.99503\tval-logloss:0.11099\tval-f1_score:0.96206\n",
      "[326]\ttrain-logloss:0.03445\ttrain-f1_score:0.99510\tval-logloss:0.11090\tval-f1_score:0.96206\n",
      "[327]\ttrain-logloss:0.03434\ttrain-f1_score:0.99510\tval-logloss:0.11080\tval-f1_score:0.96229\n",
      "[328]\ttrain-logloss:0.03421\ttrain-f1_score:0.99524\tval-logloss:0.11076\tval-f1_score:0.96250\n",
      "[329]\ttrain-logloss:0.03410\ttrain-f1_score:0.99530\tval-logloss:0.11067\tval-f1_score:0.96243\n",
      "[330]\ttrain-logloss:0.03392\ttrain-f1_score:0.99540\tval-logloss:0.11071\tval-f1_score:0.96236\n",
      "[331]\ttrain-logloss:0.03376\ttrain-f1_score:0.99546\tval-logloss:0.11069\tval-f1_score:0.96264\n"
     ]
    }
   ],
   "source": [
    "xgb_model = xgb.train(\n",
    "    PARAMETERS,\n",
    "    d_train_tfidf,\n",
    "    feval = custom_f1_score,\n",
    "    num_boost_round = NUM_BOOST_ROUNDS,\n",
    "    maximize = True,\n",
    "    evals = watchlist_tfidf,\n",
    "    early_stopping_rounds = EARLY_STOPPING_ROUNDS, \n",
    "    verbose_eval=True)"
   ]
  },
  {
   "cell_type": "code",
   "execution_count": 26,
   "metadata": {},
   "outputs": [],
   "source": [
    "# XGBoost returns probabilities by default.\n",
    "y_probas_train_tfidf = xgb_model.predict(d_train_tfidf)\n",
    "y_probas_test_tfidf = xgb_model.predict(d_test_tfidf)"
   ]
  },
  {
   "cell_type": "code",
   "execution_count": 27,
   "metadata": {},
   "outputs": [],
   "source": [
    "y_pred_test_tfidf = np.round(y_probas_test_tfidf)"
   ]
  },
  {
   "cell_type": "code",
   "execution_count": 28,
   "metadata": {},
   "outputs": [
    {
     "name": "stdout",
     "output_type": "stream",
     "text": [
      "True Negatives:  3549\n",
      "False Positives:  161\n",
      "False Negatives:  125\n",
      "True Positives:  3764\n"
     ]
    },
    {
     "data": {
      "image/png": "[encoded data removed]",
      "text/plain": [
       "<Figure size 360x360 with 2 Axes>"
      ]
     },
     "metadata": {
      "needs_background": "light"
     },
     "output_type": "display_data"
    }
   ],
   "source": [
    "plot_cfm(y_test_tfidf, y_probas_test_tfidf)"
   ]
  },
  {
   "cell_type": "code",
   "execution_count": 29,
   "metadata": {},
   "outputs": [
    {
     "name": "stdout",
     "output_type": "stream",
     "text": [
      "              precision    recall  f1-score   support\n",
      "\n",
      "           0       0.97      0.96      0.96      3710\n",
      "           1       0.96      0.97      0.96      3889\n",
      "\n",
      "    accuracy                           0.96      7599\n",
      "   macro avg       0.96      0.96      0.96      7599\n",
      "weighted avg       0.96      0.96      0.96      7599\n",
      "\n"
     ]
    }
   ],
   "source": [
    "print(classification_report(y_test_tfidf, y_pred_test_tfidf))"
   ]
  },
  {
   "cell_type": "markdown",
   "metadata": {},
   "source": [
    "Compared to the other models, which seemed to concentrate on maximing either one of precision or recall, at the cost of the other, XGBoost achieves similar scores for both precision and recall (for both classes).\n",
    "\n",
    "\n",
    "The XGBoost model got 78% of the test set majority class right, but struggles to recognize the minority class (bullying comments), with only 150 comments predicted correctly."
   ]
  },
  {
   "cell_type": "code",
   "execution_count": 30,
   "metadata": {},
   "outputs": [
    {
     "name": "stdout",
     "output_type": "stream",
     "text": [
      "F1: 0.96\n"
     ]
    }
   ],
   "source": [
    "f1_tfidf = f1_score(y_test_tfidf, y_pred_test_tfidf, average='weighted')\n",
    "print('F1: %.2f' % f1_tfidf)"
   ]
  },
  {
   "cell_type": "code",
   "execution_count": 31,
   "metadata": {},
   "outputs": [
    {
     "name": "stdout",
     "output_type": "stream",
     "text": [
      "AUC: 0.99\n"
     ]
    }
   ],
   "source": [
    "auc_tfidf = roc_auc_score(y_test_tfidf, y_probas_test_tfidf)\n",
    "print('AUC: %.2f' % auc_tfidf)"
   ]
  },
  {
   "cell_type": "code",
   "execution_count": 32,
   "metadata": {},
   "outputs": [
    {
     "data": {
      "image/png": "[encoded data removed]",
      "text/plain": [
       "<Figure size 864x720 with 1 Axes>"
      ]
     },
     "metadata": {
      "needs_background": "light"
     },
     "output_type": "display_data"
    }
   ],
   "source": [
    "plot_roc(\"Train\", y_train_tfidf, y_probas_train_tfidf, color = colors[0])\n",
    "plot_roc(\"Test\", y_test_tfidf, y_probas_test_tfidf, color = colors[0], linestyle = '--')"
   ]
  },
  {
   "cell_type": "code",
   "execution_count": 33,
   "metadata": {},
   "outputs": [
    {
     "data": {
      "text/plain": [
       "['./xgb.joblib']"
      ]
     },
     "execution_count": 33,
     "metadata": {},
     "output_type": "execute_result"
    }
   ],
   "source": [
    "import joblib\n",
    "# save\n",
    "joblib.dump(xgb_model, \"./xgb.joblib\")"
   ]
  },
  {
   "cell_type": "code",
   "execution_count": 34,
   "metadata": {},
   "outputs": [],
   "source": [
    "# Saving model to current directory\n",
    "# Pickle serializes objects so they can be saved to a file, and loaded in a program again later on.\n",
    "import pickle\n",
    "pickle.dump(xgb_model, open('xgb.pkl','wb'))"
   ]
  },
  {
   "cell_type": "code",
   "execution_count": null,
   "metadata": {},
   "outputs": [],
   "source": []
  }
 ],
 "metadata": {
  "kernelspec": {
   "display_name": "Python 3",
   "language": "python",
   "name": "python3"
  },
  "language_info": {
   "codemirror_mode": {
    "name": "ipython",
    "version": 3
   },
   "file_extension": ".py",
   "mimetype": "text/x-python",
   "name": "python",
   "nbconvert_exporter": "python",
   "pygments_lexer": "ipython3",
   "version": "3.8.3"
  }
 },
 "nbformat": 4,
 "nbformat_minor": 2
}
